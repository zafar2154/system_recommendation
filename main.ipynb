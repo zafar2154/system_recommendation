{
 "cells": [
  {
   "cell_type": "markdown",
   "metadata": {
    "id": "A5l6ARYfFbGS"
   },
   "source": [
    "## Import Library Yang Diperlukan"
   ]
  },
  {
   "cell_type": "code",
   "execution_count": 1,
   "metadata": {
    "id": "By6UVVNmFbGV"
   },
   "outputs": [
    {
     "name": "stderr",
     "output_type": "stream",
     "text": [
      "C:\\Users\\Afit\\AppData\\Local\\Temp\\ipykernel_18072\\231950735.py:1: DeprecationWarning: \n",
      "Pyarrow will become a required dependency of pandas in the next major release of pandas (pandas 3.0),\n",
      "(to allow more performant data types, such as the Arrow string type, and better interoperability with other libraries)\n",
      "but was not found to be installed on your system.\n",
      "If this would cause problems for you,\n",
      "please provide us feedback at https://github.com/pandas-dev/pandas/issues/54466\n",
      "        \n",
      "  import pandas as pd\n"
     ]
    }
   ],
   "source": [
    "import pandas as pd\n",
    "import numpy as np\n",
    "import matplotlib.pyplot as plt\n",
    "import seaborn as sns\n",
    "import ast\n",
    "from sklearn.feature_extraction.text import TfidfVectorizer\n",
    "from sklearn.metrics.pairwise import cosine_similarity\n",
    "import itertools\n",
    "from gensim.models import Word2Vec\n",
    "from google.colab import files\n",
    "\n"
   ]
  },
  {
   "cell_type": "code",
   "execution_count": 2,
   "metadata": {
    "colab": {
     "base_uri": "https://localhost:8080/",
     "height": 90
    },
    "id": "CCTpKqcJF_e2",
    "outputId": "bcfe60c1-4497-48ff-8be0-b3ba6e493df1"
   },
   "outputs": [
    {
     "data": {
      "text/html": [
       "\n",
       "     <input type=\"file\" id=\"files-c69ca21f-0a80-4a52-a333-374587e04367\" name=\"files[]\" multiple disabled\n",
       "        style=\"border:none\" />\n",
       "     <output id=\"result-c69ca21f-0a80-4a52-a333-374587e04367\">\n",
       "      Upload widget is only available when the cell has been executed in the\n",
       "      current browser session. Please rerun this cell to enable.\n",
       "      </output>\n",
       "      <script>// Copyright 2017 Google LLC\n",
       "//\n",
       "// Licensed under the Apache License, Version 2.0 (the \"License\");\n",
       "// you may not use this file except in compliance with the License.\n",
       "// You may obtain a copy of the License at\n",
       "//\n",
       "//      http://www.apache.org/licenses/LICENSE-2.0\n",
       "//\n",
       "// Unless required by applicable law or agreed to in writing, software\n",
       "// distributed under the License is distributed on an \"AS IS\" BASIS,\n",
       "// WITHOUT WARRANTIES OR CONDITIONS OF ANY KIND, either express or implied.\n",
       "// See the License for the specific language governing permissions and\n",
       "// limitations under the License.\n",
       "\n",
       "/**\n",
       " * @fileoverview Helpers for google.colab Python module.\n",
       " */\n",
       "(function(scope) {\n",
       "function span(text, styleAttributes = {}) {\n",
       "  const element = document.createElement('span');\n",
       "  element.textContent = text;\n",
       "  for (const key of Object.keys(styleAttributes)) {\n",
       "    element.style[key] = styleAttributes[key];\n",
       "  }\n",
       "  return element;\n",
       "}\n",
       "\n",
       "// Max number of bytes which will be uploaded at a time.\n",
       "const MAX_PAYLOAD_SIZE = 100 * 1024;\n",
       "\n",
       "function _uploadFiles(inputId, outputId) {\n",
       "  const steps = uploadFilesStep(inputId, outputId);\n",
       "  const outputElement = document.getElementById(outputId);\n",
       "  // Cache steps on the outputElement to make it available for the next call\n",
       "  // to uploadFilesContinue from Python.\n",
       "  outputElement.steps = steps;\n",
       "\n",
       "  return _uploadFilesContinue(outputId);\n",
       "}\n",
       "\n",
       "// This is roughly an async generator (not supported in the browser yet),\n",
       "// where there are multiple asynchronous steps and the Python side is going\n",
       "// to poll for completion of each step.\n",
       "// This uses a Promise to block the python side on completion of each step,\n",
       "// then passes the result of the previous step as the input to the next step.\n",
       "function _uploadFilesContinue(outputId) {\n",
       "  const outputElement = document.getElementById(outputId);\n",
       "  const steps = outputElement.steps;\n",
       "\n",
       "  const next = steps.next(outputElement.lastPromiseValue);\n",
       "  return Promise.resolve(next.value.promise).then((value) => {\n",
       "    // Cache the last promise value to make it available to the next\n",
       "    // step of the generator.\n",
       "    outputElement.lastPromiseValue = value;\n",
       "    return next.value.response;\n",
       "  });\n",
       "}\n",
       "\n",
       "/**\n",
       " * Generator function which is called between each async step of the upload\n",
       " * process.\n",
       " * @param {string} inputId Element ID of the input file picker element.\n",
       " * @param {string} outputId Element ID of the output display.\n",
       " * @return {!Iterable<!Object>} Iterable of next steps.\n",
       " */\n",
       "function* uploadFilesStep(inputId, outputId) {\n",
       "  const inputElement = document.getElementById(inputId);\n",
       "  inputElement.disabled = false;\n",
       "\n",
       "  const outputElement = document.getElementById(outputId);\n",
       "  outputElement.innerHTML = '';\n",
       "\n",
       "  const pickedPromise = new Promise((resolve) => {\n",
       "    inputElement.addEventListener('change', (e) => {\n",
       "      resolve(e.target.files);\n",
       "    });\n",
       "  });\n",
       "\n",
       "  const cancel = document.createElement('button');\n",
       "  inputElement.parentElement.appendChild(cancel);\n",
       "  cancel.textContent = 'Cancel upload';\n",
       "  const cancelPromise = new Promise((resolve) => {\n",
       "    cancel.onclick = () => {\n",
       "      resolve(null);\n",
       "    };\n",
       "  });\n",
       "\n",
       "  // Wait for the user to pick the files.\n",
       "  const files = yield {\n",
       "    promise: Promise.race([pickedPromise, cancelPromise]),\n",
       "    response: {\n",
       "      action: 'starting',\n",
       "    }\n",
       "  };\n",
       "\n",
       "  cancel.remove();\n",
       "\n",
       "  // Disable the input element since further picks are not allowed.\n",
       "  inputElement.disabled = true;\n",
       "\n",
       "  if (!files) {\n",
       "    return {\n",
       "      response: {\n",
       "        action: 'complete',\n",
       "      }\n",
       "    };\n",
       "  }\n",
       "\n",
       "  for (const file of files) {\n",
       "    const li = document.createElement('li');\n",
       "    li.append(span(file.name, {fontWeight: 'bold'}));\n",
       "    li.append(span(\n",
       "        `(${file.type || 'n/a'}) - ${file.size} bytes, ` +\n",
       "        `last modified: ${\n",
       "            file.lastModifiedDate ? file.lastModifiedDate.toLocaleDateString() :\n",
       "                                    'n/a'} - `));\n",
       "    const percent = span('0% done');\n",
       "    li.appendChild(percent);\n",
       "\n",
       "    outputElement.appendChild(li);\n",
       "\n",
       "    const fileDataPromise = new Promise((resolve) => {\n",
       "      const reader = new FileReader();\n",
       "      reader.onload = (e) => {\n",
       "        resolve(e.target.result);\n",
       "      };\n",
       "      reader.readAsArrayBuffer(file);\n",
       "    });\n",
       "    // Wait for the data to be ready.\n",
       "    let fileData = yield {\n",
       "      promise: fileDataPromise,\n",
       "      response: {\n",
       "        action: 'continue',\n",
       "      }\n",
       "    };\n",
       "\n",
       "    // Use a chunked sending to avoid message size limits. See b/62115660.\n",
       "    let position = 0;\n",
       "    do {\n",
       "      const length = Math.min(fileData.byteLength - position, MAX_PAYLOAD_SIZE);\n",
       "      const chunk = new Uint8Array(fileData, position, length);\n",
       "      position += length;\n",
       "\n",
       "      const base64 = btoa(String.fromCharCode.apply(null, chunk));\n",
       "      yield {\n",
       "        response: {\n",
       "          action: 'append',\n",
       "          file: file.name,\n",
       "          data: base64,\n",
       "        },\n",
       "      };\n",
       "\n",
       "      let percentDone = fileData.byteLength === 0 ?\n",
       "          100 :\n",
       "          Math.round((position / fileData.byteLength) * 100);\n",
       "      percent.textContent = `${percentDone}% done`;\n",
       "\n",
       "    } while (position < fileData.byteLength);\n",
       "  }\n",
       "\n",
       "  // All done.\n",
       "  yield {\n",
       "    response: {\n",
       "      action: 'complete',\n",
       "    }\n",
       "  };\n",
       "}\n",
       "\n",
       "scope.google = scope.google || {};\n",
       "scope.google.colab = scope.google.colab || {};\n",
       "scope.google.colab._files = {\n",
       "  _uploadFiles,\n",
       "  _uploadFilesContinue,\n",
       "};\n",
       "})(self);\n",
       "</script> "
      ],
      "text/plain": [
       "<IPython.core.display.HTML object>"
      ]
     },
     "metadata": {},
     "output_type": "display_data"
    },
    {
     "name": "stdout",
     "output_type": "stream",
     "text": [
      "Saving kaggle.json to kaggle (1).json\n"
     ]
    },
    {
     "data": {
      "text/plain": [
       "{'kaggle (1).json': b'{\"username\":\"zahidfaqih\",\"key\":\"3491bc2a15d3934ff51f6174c958647c\"}'}"
      ]
     },
     "execution_count": 2,
     "metadata": {},
     "output_type": "execute_result"
    }
   ],
   "source": [
    "files.upload()"
   ]
  },
  {
   "cell_type": "markdown",
   "metadata": {
    "id": "0dt99re3FbGX"
   },
   "source": [
    "## Loading Data"
   ]
  },
  {
   "cell_type": "code",
   "execution_count": 3,
   "metadata": {
    "colab": {
     "base_uri": "https://localhost:8080/"
    },
    "id": "-b5xMsjtHDoS",
    "outputId": "0b34b14b-8ffc-4235-e7c8-34314c5e6c1b"
   },
   "outputs": [
    {
     "name": "stdout",
     "output_type": "stream",
     "text": [
      "Dataset URL: https://www.kaggle.com/datasets/tmdb/tmdb-movie-metadata\n",
      "License(s): other\n",
      "tmdb-movie-metadata.zip: Skipping, found more recently modified local copy (use --force to force download)\n"
     ]
    }
   ],
   "source": [
    "!kaggle datasets download -d tmdb/tmdb-movie-metadata"
   ]
  },
  {
   "cell_type": "code",
   "execution_count": 4,
   "metadata": {
    "colab": {
     "base_uri": "https://localhost:8080/"
    },
    "id": "HV6_GlPLHNfx",
    "outputId": "dde3c9e3-0a46-47a5-e221-1c4340227ee4"
   },
   "outputs": [
    {
     "name": "stdout",
     "output_type": "stream",
     "text": [
      "Archive:  tmdb-movie-metadata.zip\n",
      "replace tmdb_5000_credits.csv? [y]es, [n]o, [A]ll, [N]one, [r]ename: y\n",
      "  inflating: tmdb_5000_credits.csv   \n",
      "replace tmdb_5000_movies.csv? [y]es, [n]o, [A]ll, [N]one, [r]ename: y\n",
      "  inflating: tmdb_5000_movies.csv    \n"
     ]
    }
   ],
   "source": [
    "!unzip tmdb-movie-metadata.zip"
   ]
  },
  {
   "cell_type": "code",
   "execution_count": 2,
   "metadata": {
    "id": "YJY-UPfZFbGY"
   },
   "outputs": [],
   "source": [
    "movies = pd.read_csv('tmdb_5000_movies.csv')\n",
    "credits = pd.read_csv('tmdb_5000_credits.csv')"
   ]
  },
  {
   "cell_type": "markdown",
   "metadata": {
    "id": "OgQbBLXUFbGY"
   },
   "source": [
    "## Data Understanding"
   ]
  },
  {
   "cell_type": "markdown",
   "metadata": {
    "id": "IXuXfQQkFbGY"
   },
   "source": [
    "Pertama-tama lihat dulu info dari masing-masing dataset"
   ]
  },
  {
   "cell_type": "code",
   "execution_count": 3,
   "metadata": {
    "colab": {
     "base_uri": "https://localhost:8080/"
    },
    "id": "MQWgPOWlFbGZ",
    "outputId": "29074130-f2a3-4540-d111-7798a8931517"
   },
   "outputs": [
    {
     "name": "stdout",
     "output_type": "stream",
     "text": [
      "<class 'pandas.core.frame.DataFrame'>\n",
      "RangeIndex: 4803 entries, 0 to 4802\n",
      "Data columns (total 4 columns):\n",
      " #   Column    Non-Null Count  Dtype \n",
      "---  ------    --------------  ----- \n",
      " 0   movie_id  4803 non-null   int64 \n",
      " 1   title     4803 non-null   object\n",
      " 2   cast      4803 non-null   object\n",
      " 3   crew      4803 non-null   object\n",
      "dtypes: int64(1), object(3)\n",
      "memory usage: 150.2+ KB\n"
     ]
    }
   ],
   "source": [
    "credits.info()"
   ]
  },
  {
   "cell_type": "code",
   "execution_count": 4,
   "metadata": {
    "colab": {
     "base_uri": "https://localhost:8080/"
    },
    "id": "iocoPJT7FbGZ",
    "outputId": "f8f3a52a-d4d9-4c51-85d7-f79083e2e775"
   },
   "outputs": [
    {
     "name": "stdout",
     "output_type": "stream",
     "text": [
      "<class 'pandas.core.frame.DataFrame'>\n",
      "RangeIndex: 4803 entries, 0 to 4802\n",
      "Data columns (total 20 columns):\n",
      " #   Column                Non-Null Count  Dtype  \n",
      "---  ------                --------------  -----  \n",
      " 0   budget                4803 non-null   int64  \n",
      " 1   genres                4803 non-null   object \n",
      " 2   homepage              1712 non-null   object \n",
      " 3   id                    4803 non-null   int64  \n",
      " 4   keywords              4803 non-null   object \n",
      " 5   original_language     4803 non-null   object \n",
      " 6   original_title        4803 non-null   object \n",
      " 7   overview              4800 non-null   object \n",
      " 8   popularity            4803 non-null   float64\n",
      " 9   production_companies  4803 non-null   object \n",
      " 10  production_countries  4803 non-null   object \n",
      " 11  release_date          4802 non-null   object \n",
      " 12  revenue               4803 non-null   int64  \n",
      " 13  runtime               4801 non-null   float64\n",
      " 14  spoken_languages      4803 non-null   object \n",
      " 15  status                4803 non-null   object \n",
      " 16  tagline               3959 non-null   object \n",
      " 17  title                 4803 non-null   object \n",
      " 18  vote_average          4803 non-null   float64\n",
      " 19  vote_count            4803 non-null   int64  \n",
      "dtypes: float64(3), int64(4), object(13)\n",
      "memory usage: 750.6+ KB\n"
     ]
    }
   ],
   "source": [
    "movies.info()"
   ]
  },
  {
   "cell_type": "markdown",
   "metadata": {
    "id": "orWrQ0zaFbGZ"
   },
   "source": [
    "dataset movie dan credits kita gabung terlebih dahulu"
   ]
  },
  {
   "cell_type": "code",
   "execution_count": 5,
   "metadata": {
    "id": "DdsB0S_WFbGZ"
   },
   "outputs": [],
   "source": [
    "movies = movies.merge(credits)"
   ]
  },
  {
   "cell_type": "code",
   "execution_count": 6,
   "metadata": {
    "colab": {
     "base_uri": "https://localhost:8080/"
    },
    "id": "yEKA1bEQFbGa",
    "outputId": "86ef5a9f-300b-4972-f522-c2c6e8272604"
   },
   "outputs": [
    {
     "name": "stdout",
     "output_type": "stream",
     "text": [
      "<class 'pandas.core.frame.DataFrame'>\n",
      "RangeIndex: 4809 entries, 0 to 4808\n",
      "Data columns (total 23 columns):\n",
      " #   Column                Non-Null Count  Dtype  \n",
      "---  ------                --------------  -----  \n",
      " 0   budget                4809 non-null   int64  \n",
      " 1   genres                4809 non-null   object \n",
      " 2   homepage              1713 non-null   object \n",
      " 3   id                    4809 non-null   int64  \n",
      " 4   keywords              4809 non-null   object \n",
      " 5   original_language     4809 non-null   object \n",
      " 6   original_title        4809 non-null   object \n",
      " 7   overview              4806 non-null   object \n",
      " 8   popularity            4809 non-null   float64\n",
      " 9   production_companies  4809 non-null   object \n",
      " 10  production_countries  4809 non-null   object \n",
      " 11  release_date          4808 non-null   object \n",
      " 12  revenue               4809 non-null   int64  \n",
      " 13  runtime               4807 non-null   float64\n",
      " 14  spoken_languages      4809 non-null   object \n",
      " 15  status                4809 non-null   object \n",
      " 16  tagline               3965 non-null   object \n",
      " 17  title                 4809 non-null   object \n",
      " 18  vote_average          4809 non-null   float64\n",
      " 19  vote_count            4809 non-null   int64  \n",
      " 20  movie_id              4809 non-null   int64  \n",
      " 21  cast                  4809 non-null   object \n",
      " 22  crew                  4809 non-null   object \n",
      "dtypes: float64(3), int64(5), object(15)\n",
      "memory usage: 864.2+ KB\n"
     ]
    }
   ],
   "source": [
    "movies.info()"
   ]
  },
  {
   "cell_type": "code",
   "execution_count": 7,
   "metadata": {
    "colab": {
     "base_uri": "https://localhost:8080/",
     "height": 805
    },
    "id": "fQlkdfDCFbGa",
    "outputId": "2196476d-a3fa-4ff9-f0f1-5cdc980f07eb"
   },
   "outputs": [
    {
     "data": {
      "text/plain": [
       "budget                     0\n",
       "genres                     0\n",
       "homepage                3096\n",
       "id                         0\n",
       "keywords                   0\n",
       "original_language          0\n",
       "original_title             0\n",
       "overview                   3\n",
       "popularity                 0\n",
       "production_companies       0\n",
       "production_countries       0\n",
       "release_date               1\n",
       "revenue                    0\n",
       "runtime                    2\n",
       "spoken_languages           0\n",
       "status                     0\n",
       "tagline                  844\n",
       "title                      0\n",
       "vote_average               0\n",
       "vote_count                 0\n",
       "movie_id                   0\n",
       "cast                       0\n",
       "crew                       0\n",
       "dtype: int64"
      ]
     },
     "execution_count": 7,
     "metadata": {},
     "output_type": "execute_result"
    }
   ],
   "source": [
    "movies.isnull().sum()"
   ]
  },
  {
   "cell_type": "code",
   "execution_count": 8,
   "metadata": {
    "colab": {
     "base_uri": "https://localhost:8080/"
    },
    "id": "b0oc07I-FbGa",
    "outputId": "b432f862-338b-44fe-914f-bc2efcf06cbc"
   },
   "outputs": [
    {
     "data": {
      "text/plain": [
       "0"
      ]
     },
     "execution_count": 8,
     "metadata": {},
     "output_type": "execute_result"
    }
   ],
   "source": [
    "movies.duplicated().sum()"
   ]
  },
  {
   "cell_type": "code",
   "execution_count": 9,
   "metadata": {
    "colab": {
     "base_uri": "https://localhost:8080/"
    },
    "id": "5l44AQx_FbGa",
    "outputId": "53130d91-e519-4df0-fa30-9e8b18eb9687"
   },
   "outputs": [
    {
     "name": "stdout",
     "output_type": "stream",
     "text": [
      "Jumlah baris: 4809\n",
      "Jumlah kolom: 23\n"
     ]
    }
   ],
   "source": [
    "jumlah_baris, jumlah_kolom= movies.shape\n",
    "print(\"Jumlah baris:\", jumlah_baris)\n",
    "print(\"Jumlah kolom:\", jumlah_kolom)"
   ]
  },
  {
   "cell_type": "code",
   "execution_count": 10,
   "metadata": {
    "colab": {
     "base_uri": "https://localhost:8080/",
     "height": 758
    },
    "id": "DoTylP-yFbGb",
    "outputId": "52eb8e70-3d22-4fea-903f-b139bb9ad37a"
   },
   "outputs": [
    {
     "data": {
      "text/html": [
       "<div>\n",
       "<style scoped>\n",
       "    .dataframe tbody tr th:only-of-type {\n",
       "        vertical-align: middle;\n",
       "    }\n",
       "\n",
       "    .dataframe tbody tr th {\n",
       "        vertical-align: top;\n",
       "    }\n",
       "\n",
       "    .dataframe thead th {\n",
       "        text-align: right;\n",
       "    }\n",
       "</style>\n",
       "<table border=\"1\" class=\"dataframe\">\n",
       "  <thead>\n",
       "    <tr style=\"text-align: right;\">\n",
       "      <th></th>\n",
       "      <th>budget</th>\n",
       "      <th>genres</th>\n",
       "      <th>homepage</th>\n",
       "      <th>id</th>\n",
       "      <th>keywords</th>\n",
       "      <th>original_language</th>\n",
       "      <th>original_title</th>\n",
       "      <th>overview</th>\n",
       "      <th>popularity</th>\n",
       "      <th>production_companies</th>\n",
       "      <th>...</th>\n",
       "      <th>runtime</th>\n",
       "      <th>spoken_languages</th>\n",
       "      <th>status</th>\n",
       "      <th>tagline</th>\n",
       "      <th>title</th>\n",
       "      <th>vote_average</th>\n",
       "      <th>vote_count</th>\n",
       "      <th>movie_id</th>\n",
       "      <th>cast</th>\n",
       "      <th>crew</th>\n",
       "    </tr>\n",
       "  </thead>\n",
       "  <tbody>\n",
       "    <tr>\n",
       "      <th>0</th>\n",
       "      <td>237000000</td>\n",
       "      <td>[{\"id\": 28, \"name\": \"Action\"}, {\"id\": 12, \"nam...</td>\n",
       "      <td>http://www.avatarmovie.com/</td>\n",
       "      <td>19995</td>\n",
       "      <td>[{\"id\": 1463, \"name\": \"culture clash\"}, {\"id\":...</td>\n",
       "      <td>en</td>\n",
       "      <td>Avatar</td>\n",
       "      <td>In the 22nd century, a paraplegic Marine is di...</td>\n",
       "      <td>150.437577</td>\n",
       "      <td>[{\"name\": \"Ingenious Film Partners\", \"id\": 289...</td>\n",
       "      <td>...</td>\n",
       "      <td>162.0</td>\n",
       "      <td>[{\"iso_639_1\": \"en\", \"name\": \"English\"}, {\"iso...</td>\n",
       "      <td>Released</td>\n",
       "      <td>Enter the World of Pandora.</td>\n",
       "      <td>Avatar</td>\n",
       "      <td>7.2</td>\n",
       "      <td>11800</td>\n",
       "      <td>19995</td>\n",
       "      <td>[{\"cast_id\": 242, \"character\": \"Jake Sully\", \"...</td>\n",
       "      <td>[{\"credit_id\": \"52fe48009251416c750aca23\", \"de...</td>\n",
       "    </tr>\n",
       "    <tr>\n",
       "      <th>1</th>\n",
       "      <td>300000000</td>\n",
       "      <td>[{\"id\": 12, \"name\": \"Adventure\"}, {\"id\": 14, \"...</td>\n",
       "      <td>http://disney.go.com/disneypictures/pirates/</td>\n",
       "      <td>285</td>\n",
       "      <td>[{\"id\": 270, \"name\": \"ocean\"}, {\"id\": 726, \"na...</td>\n",
       "      <td>en</td>\n",
       "      <td>Pirates of the Caribbean: At World's End</td>\n",
       "      <td>Captain Barbossa, long believed to be dead, ha...</td>\n",
       "      <td>139.082615</td>\n",
       "      <td>[{\"name\": \"Walt Disney Pictures\", \"id\": 2}, {\"...</td>\n",
       "      <td>...</td>\n",
       "      <td>169.0</td>\n",
       "      <td>[{\"iso_639_1\": \"en\", \"name\": \"English\"}]</td>\n",
       "      <td>Released</td>\n",
       "      <td>At the end of the world, the adventure begins.</td>\n",
       "      <td>Pirates of the Caribbean: At World's End</td>\n",
       "      <td>6.9</td>\n",
       "      <td>4500</td>\n",
       "      <td>285</td>\n",
       "      <td>[{\"cast_id\": 4, \"character\": \"Captain Jack Spa...</td>\n",
       "      <td>[{\"credit_id\": \"52fe4232c3a36847f800b579\", \"de...</td>\n",
       "    </tr>\n",
       "    <tr>\n",
       "      <th>2</th>\n",
       "      <td>245000000</td>\n",
       "      <td>[{\"id\": 28, \"name\": \"Action\"}, {\"id\": 12, \"nam...</td>\n",
       "      <td>http://www.sonypictures.com/movies/spectre/</td>\n",
       "      <td>206647</td>\n",
       "      <td>[{\"id\": 470, \"name\": \"spy\"}, {\"id\": 818, \"name...</td>\n",
       "      <td>en</td>\n",
       "      <td>Spectre</td>\n",
       "      <td>A cryptic message from Bond’s past sends him o...</td>\n",
       "      <td>107.376788</td>\n",
       "      <td>[{\"name\": \"Columbia Pictures\", \"id\": 5}, {\"nam...</td>\n",
       "      <td>...</td>\n",
       "      <td>148.0</td>\n",
       "      <td>[{\"iso_639_1\": \"fr\", \"name\": \"Fran\\u00e7ais\"},...</td>\n",
       "      <td>Released</td>\n",
       "      <td>A Plan No One Escapes</td>\n",
       "      <td>Spectre</td>\n",
       "      <td>6.3</td>\n",
       "      <td>4466</td>\n",
       "      <td>206647</td>\n",
       "      <td>[{\"cast_id\": 1, \"character\": \"James Bond\", \"cr...</td>\n",
       "      <td>[{\"credit_id\": \"54805967c3a36829b5002c41\", \"de...</td>\n",
       "    </tr>\n",
       "    <tr>\n",
       "      <th>3</th>\n",
       "      <td>250000000</td>\n",
       "      <td>[{\"id\": 28, \"name\": \"Action\"}, {\"id\": 80, \"nam...</td>\n",
       "      <td>http://www.thedarkknightrises.com/</td>\n",
       "      <td>49026</td>\n",
       "      <td>[{\"id\": 849, \"name\": \"dc comics\"}, {\"id\": 853,...</td>\n",
       "      <td>en</td>\n",
       "      <td>The Dark Knight Rises</td>\n",
       "      <td>Following the death of District Attorney Harve...</td>\n",
       "      <td>112.312950</td>\n",
       "      <td>[{\"name\": \"Legendary Pictures\", \"id\": 923}, {\"...</td>\n",
       "      <td>...</td>\n",
       "      <td>165.0</td>\n",
       "      <td>[{\"iso_639_1\": \"en\", \"name\": \"English\"}]</td>\n",
       "      <td>Released</td>\n",
       "      <td>The Legend Ends</td>\n",
       "      <td>The Dark Knight Rises</td>\n",
       "      <td>7.6</td>\n",
       "      <td>9106</td>\n",
       "      <td>49026</td>\n",
       "      <td>[{\"cast_id\": 2, \"character\": \"Bruce Wayne / Ba...</td>\n",
       "      <td>[{\"credit_id\": \"52fe4781c3a36847f81398c3\", \"de...</td>\n",
       "    </tr>\n",
       "    <tr>\n",
       "      <th>4</th>\n",
       "      <td>260000000</td>\n",
       "      <td>[{\"id\": 28, \"name\": \"Action\"}, {\"id\": 12, \"nam...</td>\n",
       "      <td>http://movies.disney.com/john-carter</td>\n",
       "      <td>49529</td>\n",
       "      <td>[{\"id\": 818, \"name\": \"based on novel\"}, {\"id\":...</td>\n",
       "      <td>en</td>\n",
       "      <td>John Carter</td>\n",
       "      <td>John Carter is a war-weary, former military ca...</td>\n",
       "      <td>43.926995</td>\n",
       "      <td>[{\"name\": \"Walt Disney Pictures\", \"id\": 2}]</td>\n",
       "      <td>...</td>\n",
       "      <td>132.0</td>\n",
       "      <td>[{\"iso_639_1\": \"en\", \"name\": \"English\"}]</td>\n",
       "      <td>Released</td>\n",
       "      <td>Lost in our world, found in another.</td>\n",
       "      <td>John Carter</td>\n",
       "      <td>6.1</td>\n",
       "      <td>2124</td>\n",
       "      <td>49529</td>\n",
       "      <td>[{\"cast_id\": 5, \"character\": \"John Carter\", \"c...</td>\n",
       "      <td>[{\"credit_id\": \"52fe479ac3a36847f813eaa3\", \"de...</td>\n",
       "    </tr>\n",
       "  </tbody>\n",
       "</table>\n",
       "<p>5 rows × 23 columns</p>\n",
       "</div>"
      ],
      "text/plain": [
       "      budget                                             genres  \\\n",
       "0  237000000  [{\"id\": 28, \"name\": \"Action\"}, {\"id\": 12, \"nam...   \n",
       "1  300000000  [{\"id\": 12, \"name\": \"Adventure\"}, {\"id\": 14, \"...   \n",
       "2  245000000  [{\"id\": 28, \"name\": \"Action\"}, {\"id\": 12, \"nam...   \n",
       "3  250000000  [{\"id\": 28, \"name\": \"Action\"}, {\"id\": 80, \"nam...   \n",
       "4  260000000  [{\"id\": 28, \"name\": \"Action\"}, {\"id\": 12, \"nam...   \n",
       "\n",
       "                                       homepage      id  \\\n",
       "0                   http://www.avatarmovie.com/   19995   \n",
       "1  http://disney.go.com/disneypictures/pirates/     285   \n",
       "2   http://www.sonypictures.com/movies/spectre/  206647   \n",
       "3            http://www.thedarkknightrises.com/   49026   \n",
       "4          http://movies.disney.com/john-carter   49529   \n",
       "\n",
       "                                            keywords original_language  \\\n",
       "0  [{\"id\": 1463, \"name\": \"culture clash\"}, {\"id\":...                en   \n",
       "1  [{\"id\": 270, \"name\": \"ocean\"}, {\"id\": 726, \"na...                en   \n",
       "2  [{\"id\": 470, \"name\": \"spy\"}, {\"id\": 818, \"name...                en   \n",
       "3  [{\"id\": 849, \"name\": \"dc comics\"}, {\"id\": 853,...                en   \n",
       "4  [{\"id\": 818, \"name\": \"based on novel\"}, {\"id\":...                en   \n",
       "\n",
       "                             original_title  \\\n",
       "0                                    Avatar   \n",
       "1  Pirates of the Caribbean: At World's End   \n",
       "2                                   Spectre   \n",
       "3                     The Dark Knight Rises   \n",
       "4                               John Carter   \n",
       "\n",
       "                                            overview  popularity  \\\n",
       "0  In the 22nd century, a paraplegic Marine is di...  150.437577   \n",
       "1  Captain Barbossa, long believed to be dead, ha...  139.082615   \n",
       "2  A cryptic message from Bond’s past sends him o...  107.376788   \n",
       "3  Following the death of District Attorney Harve...  112.312950   \n",
       "4  John Carter is a war-weary, former military ca...   43.926995   \n",
       "\n",
       "                                production_companies  ... runtime  \\\n",
       "0  [{\"name\": \"Ingenious Film Partners\", \"id\": 289...  ...   162.0   \n",
       "1  [{\"name\": \"Walt Disney Pictures\", \"id\": 2}, {\"...  ...   169.0   \n",
       "2  [{\"name\": \"Columbia Pictures\", \"id\": 5}, {\"nam...  ...   148.0   \n",
       "3  [{\"name\": \"Legendary Pictures\", \"id\": 923}, {\"...  ...   165.0   \n",
       "4        [{\"name\": \"Walt Disney Pictures\", \"id\": 2}]  ...   132.0   \n",
       "\n",
       "                                    spoken_languages    status  \\\n",
       "0  [{\"iso_639_1\": \"en\", \"name\": \"English\"}, {\"iso...  Released   \n",
       "1           [{\"iso_639_1\": \"en\", \"name\": \"English\"}]  Released   \n",
       "2  [{\"iso_639_1\": \"fr\", \"name\": \"Fran\\u00e7ais\"},...  Released   \n",
       "3           [{\"iso_639_1\": \"en\", \"name\": \"English\"}]  Released   \n",
       "4           [{\"iso_639_1\": \"en\", \"name\": \"English\"}]  Released   \n",
       "\n",
       "                                          tagline  \\\n",
       "0                     Enter the World of Pandora.   \n",
       "1  At the end of the world, the adventure begins.   \n",
       "2                           A Plan No One Escapes   \n",
       "3                                 The Legend Ends   \n",
       "4            Lost in our world, found in another.   \n",
       "\n",
       "                                      title vote_average vote_count movie_id  \\\n",
       "0                                    Avatar          7.2      11800    19995   \n",
       "1  Pirates of the Caribbean: At World's End          6.9       4500      285   \n",
       "2                                   Spectre          6.3       4466   206647   \n",
       "3                     The Dark Knight Rises          7.6       9106    49026   \n",
       "4                               John Carter          6.1       2124    49529   \n",
       "\n",
       "                                                cast  \\\n",
       "0  [{\"cast_id\": 242, \"character\": \"Jake Sully\", \"...   \n",
       "1  [{\"cast_id\": 4, \"character\": \"Captain Jack Spa...   \n",
       "2  [{\"cast_id\": 1, \"character\": \"James Bond\", \"cr...   \n",
       "3  [{\"cast_id\": 2, \"character\": \"Bruce Wayne / Ba...   \n",
       "4  [{\"cast_id\": 5, \"character\": \"John Carter\", \"c...   \n",
       "\n",
       "                                                crew  \n",
       "0  [{\"credit_id\": \"52fe48009251416c750aca23\", \"de...  \n",
       "1  [{\"credit_id\": \"52fe4232c3a36847f800b579\", \"de...  \n",
       "2  [{\"credit_id\": \"54805967c3a36829b5002c41\", \"de...  \n",
       "3  [{\"credit_id\": \"52fe4781c3a36847f81398c3\", \"de...  \n",
       "4  [{\"credit_id\": \"52fe479ac3a36847f813eaa3\", \"de...  \n",
       "\n",
       "[5 rows x 23 columns]"
      ]
     },
     "execution_count": 10,
     "metadata": {},
     "output_type": "execute_result"
    }
   ],
   "source": [
    "movies.head()"
   ]
  },
  {
   "cell_type": "markdown",
   "metadata": {
    "id": "Lab5hFqVFbGb"
   },
   "source": [
    "## Data Preparation"
   ]
  },
  {
   "cell_type": "markdown",
   "metadata": {
    "id": "dSX3wTP-Cnsq"
   },
   "source": [
    "Dengan kata lain, agar sebuah film dapat tampil di tangga film, film tersebut harus memiliki lebih banyak suara daripada setidaknya 90% film dalam daftar."
   ]
  },
  {
   "cell_type": "code",
   "execution_count": 11,
   "metadata": {
    "id": "Hc3CImW_BcIK"
   },
   "outputs": [],
   "source": [
    "m= movies['vote_count'].quantile(0.9)\n",
    "\n",
    "C = movies['vote_average'].mean()\n",
    "\n",
    "# Membuat kolom Weighted Rating\n",
    "def weighted_rating(x, C, m):\n",
    "    v = x['vote_count']\n",
    "    R = x['vote_average']\n",
    "    return (v * R + C * m) / (v + m)\n",
    "\n",
    "movies['weighted_rating'] = movies.apply(weighted_rating, axis=1, C=C, m=m)\n"
   ]
  },
  {
   "cell_type": "code",
   "execution_count": 12,
   "metadata": {
    "colab": {
     "base_uri": "https://localhost:8080/",
     "height": 689
    },
    "id": "876WlkAxC70H",
    "outputId": "db728859-faf3-45ad-a401-01b00b742789"
   },
   "outputs": [
    {
     "data": {
      "text/html": [
       "<div>\n",
       "<style scoped>\n",
       "    .dataframe tbody tr th:only-of-type {\n",
       "        vertical-align: middle;\n",
       "    }\n",
       "\n",
       "    .dataframe tbody tr th {\n",
       "        vertical-align: top;\n",
       "    }\n",
       "\n",
       "    .dataframe thead th {\n",
       "        text-align: right;\n",
       "    }\n",
       "</style>\n",
       "<table border=\"1\" class=\"dataframe\">\n",
       "  <thead>\n",
       "    <tr style=\"text-align: right;\">\n",
       "      <th></th>\n",
       "      <th>budget</th>\n",
       "      <th>genres</th>\n",
       "      <th>homepage</th>\n",
       "      <th>id</th>\n",
       "      <th>keywords</th>\n",
       "      <th>original_language</th>\n",
       "      <th>original_title</th>\n",
       "      <th>overview</th>\n",
       "      <th>popularity</th>\n",
       "      <th>production_companies</th>\n",
       "      <th>...</th>\n",
       "      <th>spoken_languages</th>\n",
       "      <th>status</th>\n",
       "      <th>tagline</th>\n",
       "      <th>title</th>\n",
       "      <th>vote_average</th>\n",
       "      <th>vote_count</th>\n",
       "      <th>movie_id</th>\n",
       "      <th>cast</th>\n",
       "      <th>crew</th>\n",
       "      <th>weighted_rating</th>\n",
       "    </tr>\n",
       "  </thead>\n",
       "  <tbody>\n",
       "    <tr>\n",
       "      <th>1883</th>\n",
       "      <td>25000000</td>\n",
       "      <td>[{\"id\": 18, \"name\": \"Drama\"}, {\"id\": 80, \"name...</td>\n",
       "      <td>NaN</td>\n",
       "      <td>278</td>\n",
       "      <td>[{\"id\": 378, \"name\": \"prison\"}, {\"id\": 417, \"n...</td>\n",
       "      <td>en</td>\n",
       "      <td>The Shawshank Redemption</td>\n",
       "      <td>Framed in the 1940s for the double murder of h...</td>\n",
       "      <td>136.747729</td>\n",
       "      <td>[{\"name\": \"Castle Rock Entertainment\", \"id\": 97}]</td>\n",
       "      <td>...</td>\n",
       "      <td>[{\"iso_639_1\": \"en\", \"name\": \"English\"}]</td>\n",
       "      <td>Released</td>\n",
       "      <td>Fear can hold you prisoner. Hope can set you f...</td>\n",
       "      <td>The Shawshank Redemption</td>\n",
       "      <td>8.5</td>\n",
       "      <td>8205</td>\n",
       "      <td>278</td>\n",
       "      <td>[{\"cast_id\": 3, \"character\": \"Andy Dufresne\", ...</td>\n",
       "      <td>[{\"credit_id\": \"52fe4231c3a36847f800b153\", \"de...</td>\n",
       "      <td>8.058576</td>\n",
       "    </tr>\n",
       "    <tr>\n",
       "      <th>662</th>\n",
       "      <td>63000000</td>\n",
       "      <td>[{\"id\": 18, \"name\": \"Drama\"}]</td>\n",
       "      <td>http://www.foxmovies.com/movies/fight-club</td>\n",
       "      <td>550</td>\n",
       "      <td>[{\"id\": 825, \"name\": \"support group\"}, {\"id\": ...</td>\n",
       "      <td>en</td>\n",
       "      <td>Fight Club</td>\n",
       "      <td>A ticking-time-bomb insomniac and a slippery s...</td>\n",
       "      <td>146.757391</td>\n",
       "      <td>[{\"name\": \"Regency Enterprises\", \"id\": 508}, {...</td>\n",
       "      <td>...</td>\n",
       "      <td>[{\"iso_639_1\": \"en\", \"name\": \"English\"}]</td>\n",
       "      <td>Released</td>\n",
       "      <td>Mischief. Mayhem. Soap.</td>\n",
       "      <td>Fight Club</td>\n",
       "      <td>8.3</td>\n",
       "      <td>9413</td>\n",
       "      <td>550</td>\n",
       "      <td>[{\"cast_id\": 4, \"character\": \"The Narrator\", \"...</td>\n",
       "      <td>[{\"credit_id\": \"55731b8192514111610027d7\", \"de...</td>\n",
       "      <td>7.938689</td>\n",
       "    </tr>\n",
       "    <tr>\n",
       "      <th>65</th>\n",
       "      <td>185000000</td>\n",
       "      <td>[{\"id\": 18, \"name\": \"Drama\"}, {\"id\": 28, \"name...</td>\n",
       "      <td>http://thedarkknight.warnerbros.com/dvdsite/</td>\n",
       "      <td>155</td>\n",
       "      <td>[{\"id\": 849, \"name\": \"dc comics\"}, {\"id\": 853,...</td>\n",
       "      <td>en</td>\n",
       "      <td>The Dark Knight</td>\n",
       "      <td>Batman raises the stakes in his war on crime. ...</td>\n",
       "      <td>187.322927</td>\n",
       "      <td>[{\"name\": \"DC Comics\", \"id\": 429}, {\"name\": \"L...</td>\n",
       "      <td>...</td>\n",
       "      <td>[{\"iso_639_1\": \"en\", \"name\": \"English\"}, {\"iso...</td>\n",
       "      <td>Released</td>\n",
       "      <td>Why So Serious?</td>\n",
       "      <td>The Dark Knight</td>\n",
       "      <td>8.2</td>\n",
       "      <td>12002</td>\n",
       "      <td>155</td>\n",
       "      <td>[{\"cast_id\": 35, \"character\": \"Bruce Wayne\", \"...</td>\n",
       "      <td>[{\"credit_id\": \"55a0eb4a925141296b0010f8\", \"de...</td>\n",
       "      <td>7.919564</td>\n",
       "    </tr>\n",
       "    <tr>\n",
       "      <th>3235</th>\n",
       "      <td>8000000</td>\n",
       "      <td>[{\"id\": 53, \"name\": \"Thriller\"}, {\"id\": 80, \"n...</td>\n",
       "      <td>NaN</td>\n",
       "      <td>680</td>\n",
       "      <td>[{\"id\": 396, \"name\": \"transporter\"}, {\"id\": 14...</td>\n",
       "      <td>en</td>\n",
       "      <td>Pulp Fiction</td>\n",
       "      <td>A burger-loving hit man, his philosophical par...</td>\n",
       "      <td>121.463076</td>\n",
       "      <td>[{\"name\": \"Miramax Films\", \"id\": 14}, {\"name\":...</td>\n",
       "      <td>...</td>\n",
       "      <td>[{\"iso_639_1\": \"en\", \"name\": \"English\"}, {\"iso...</td>\n",
       "      <td>Released</td>\n",
       "      <td>Just because you are a character doesn't mean ...</td>\n",
       "      <td>Pulp Fiction</td>\n",
       "      <td>8.3</td>\n",
       "      <td>8428</td>\n",
       "      <td>680</td>\n",
       "      <td>[{\"cast_id\": 2, \"character\": \"Vincent Vega\", \"...</td>\n",
       "      <td>[{\"credit_id\": \"52fe4269c3a36847f801caa3\", \"de...</td>\n",
       "      <td>7.904036</td>\n",
       "    </tr>\n",
       "    <tr>\n",
       "      <th>96</th>\n",
       "      <td>160000000</td>\n",
       "      <td>[{\"id\": 28, \"name\": \"Action\"}, {\"id\": 53, \"nam...</td>\n",
       "      <td>http://inceptionmovie.warnerbros.com/</td>\n",
       "      <td>27205</td>\n",
       "      <td>[{\"id\": 1014, \"name\": \"loss of lover\"}, {\"id\":...</td>\n",
       "      <td>en</td>\n",
       "      <td>Inception</td>\n",
       "      <td>Cobb, a skilled thief who commits corporate es...</td>\n",
       "      <td>167.583710</td>\n",
       "      <td>[{\"name\": \"Legendary Pictures\", \"id\": 923}, {\"...</td>\n",
       "      <td>...</td>\n",
       "      <td>[{\"iso_639_1\": \"en\", \"name\": \"English\"}, {\"iso...</td>\n",
       "      <td>Released</td>\n",
       "      <td>Your mind is the scene of the crime.</td>\n",
       "      <td>Inception</td>\n",
       "      <td>8.1</td>\n",
       "      <td>13752</td>\n",
       "      <td>27205</td>\n",
       "      <td>[{\"cast_id\": 1, \"character\": \"Dom Cobb\", \"cred...</td>\n",
       "      <td>[{\"credit_id\": \"56e8462cc3a368408400354c\", \"de...</td>\n",
       "      <td>7.862848</td>\n",
       "    </tr>\n",
       "  </tbody>\n",
       "</table>\n",
       "<p>5 rows × 24 columns</p>\n",
       "</div>"
      ],
      "text/plain": [
       "         budget                                             genres  \\\n",
       "1883   25000000  [{\"id\": 18, \"name\": \"Drama\"}, {\"id\": 80, \"name...   \n",
       "662    63000000                      [{\"id\": 18, \"name\": \"Drama\"}]   \n",
       "65    185000000  [{\"id\": 18, \"name\": \"Drama\"}, {\"id\": 28, \"name...   \n",
       "3235    8000000  [{\"id\": 53, \"name\": \"Thriller\"}, {\"id\": 80, \"n...   \n",
       "96    160000000  [{\"id\": 28, \"name\": \"Action\"}, {\"id\": 53, \"nam...   \n",
       "\n",
       "                                          homepage     id  \\\n",
       "1883                                           NaN    278   \n",
       "662     http://www.foxmovies.com/movies/fight-club    550   \n",
       "65    http://thedarkknight.warnerbros.com/dvdsite/    155   \n",
       "3235                                           NaN    680   \n",
       "96           http://inceptionmovie.warnerbros.com/  27205   \n",
       "\n",
       "                                               keywords original_language  \\\n",
       "1883  [{\"id\": 378, \"name\": \"prison\"}, {\"id\": 417, \"n...                en   \n",
       "662   [{\"id\": 825, \"name\": \"support group\"}, {\"id\": ...                en   \n",
       "65    [{\"id\": 849, \"name\": \"dc comics\"}, {\"id\": 853,...                en   \n",
       "3235  [{\"id\": 396, \"name\": \"transporter\"}, {\"id\": 14...                en   \n",
       "96    [{\"id\": 1014, \"name\": \"loss of lover\"}, {\"id\":...                en   \n",
       "\n",
       "                original_title  \\\n",
       "1883  The Shawshank Redemption   \n",
       "662                 Fight Club   \n",
       "65             The Dark Knight   \n",
       "3235              Pulp Fiction   \n",
       "96                   Inception   \n",
       "\n",
       "                                               overview  popularity  \\\n",
       "1883  Framed in the 1940s for the double murder of h...  136.747729   \n",
       "662   A ticking-time-bomb insomniac and a slippery s...  146.757391   \n",
       "65    Batman raises the stakes in his war on crime. ...  187.322927   \n",
       "3235  A burger-loving hit man, his philosophical par...  121.463076   \n",
       "96    Cobb, a skilled thief who commits corporate es...  167.583710   \n",
       "\n",
       "                                   production_companies  ...  \\\n",
       "1883  [{\"name\": \"Castle Rock Entertainment\", \"id\": 97}]  ...   \n",
       "662   [{\"name\": \"Regency Enterprises\", \"id\": 508}, {...  ...   \n",
       "65    [{\"name\": \"DC Comics\", \"id\": 429}, {\"name\": \"L...  ...   \n",
       "3235  [{\"name\": \"Miramax Films\", \"id\": 14}, {\"name\":...  ...   \n",
       "96    [{\"name\": \"Legendary Pictures\", \"id\": 923}, {\"...  ...   \n",
       "\n",
       "                                       spoken_languages    status  \\\n",
       "1883           [{\"iso_639_1\": \"en\", \"name\": \"English\"}]  Released   \n",
       "662            [{\"iso_639_1\": \"en\", \"name\": \"English\"}]  Released   \n",
       "65    [{\"iso_639_1\": \"en\", \"name\": \"English\"}, {\"iso...  Released   \n",
       "3235  [{\"iso_639_1\": \"en\", \"name\": \"English\"}, {\"iso...  Released   \n",
       "96    [{\"iso_639_1\": \"en\", \"name\": \"English\"}, {\"iso...  Released   \n",
       "\n",
       "                                                tagline  \\\n",
       "1883  Fear can hold you prisoner. Hope can set you f...   \n",
       "662                             Mischief. Mayhem. Soap.   \n",
       "65                                      Why So Serious?   \n",
       "3235  Just because you are a character doesn't mean ...   \n",
       "96                 Your mind is the scene of the crime.   \n",
       "\n",
       "                         title vote_average vote_count movie_id  \\\n",
       "1883  The Shawshank Redemption          8.5       8205      278   \n",
       "662                 Fight Club          8.3       9413      550   \n",
       "65             The Dark Knight          8.2      12002      155   \n",
       "3235              Pulp Fiction          8.3       8428      680   \n",
       "96                   Inception          8.1      13752    27205   \n",
       "\n",
       "                                                   cast  \\\n",
       "1883  [{\"cast_id\": 3, \"character\": \"Andy Dufresne\", ...   \n",
       "662   [{\"cast_id\": 4, \"character\": \"The Narrator\", \"...   \n",
       "65    [{\"cast_id\": 35, \"character\": \"Bruce Wayne\", \"...   \n",
       "3235  [{\"cast_id\": 2, \"character\": \"Vincent Vega\", \"...   \n",
       "96    [{\"cast_id\": 1, \"character\": \"Dom Cobb\", \"cred...   \n",
       "\n",
       "                                                   crew  weighted_rating  \n",
       "1883  [{\"credit_id\": \"52fe4231c3a36847f800b153\", \"de...         8.058576  \n",
       "662   [{\"credit_id\": \"55731b8192514111610027d7\", \"de...         7.938689  \n",
       "65    [{\"credit_id\": \"55a0eb4a925141296b0010f8\", \"de...         7.919564  \n",
       "3235  [{\"credit_id\": \"52fe4269c3a36847f801caa3\", \"de...         7.904036  \n",
       "96    [{\"credit_id\": \"56e8462cc3a368408400354c\", \"de...         7.862848  \n",
       "\n",
       "[5 rows x 24 columns]"
      ]
     },
     "execution_count": 12,
     "metadata": {},
     "output_type": "execute_result"
    }
   ],
   "source": [
    "movies.sort_values('weighted_rating', ascending=False).head()"
   ]
  },
  {
   "cell_type": "markdown",
   "metadata": {
    "id": "Qs7UgXMCgK9A"
   },
   "source": [
    "Untuk content-based filtering variabel yang digunakan adalah id, title, keywords, genres, cast, dan overview"
   ]
  },
  {
   "cell_type": "code",
   "execution_count": 13,
   "metadata": {
    "id": "ktZViVJ0FbGb"
   },
   "outputs": [],
   "source": [
    "movies = movies[['id','title','keywords','genres','cast','overview','weighted_rating']]"
   ]
  },
  {
   "cell_type": "code",
   "execution_count": 14,
   "metadata": {
    "colab": {
     "base_uri": "https://localhost:8080/"
    },
    "id": "JMdJhUM7FbGc",
    "outputId": "27fe1a3a-ffa8-4cfe-d15f-084fde889de4"
   },
   "outputs": [
    {
     "name": "stdout",
     "output_type": "stream",
     "text": [
      "<class 'pandas.core.frame.DataFrame'>\n",
      "RangeIndex: 4809 entries, 0 to 4808\n",
      "Data columns (total 7 columns):\n",
      " #   Column           Non-Null Count  Dtype  \n",
      "---  ------           --------------  -----  \n",
      " 0   id               4809 non-null   int64  \n",
      " 1   title            4809 non-null   object \n",
      " 2   keywords         4809 non-null   object \n",
      " 3   genres           4809 non-null   object \n",
      " 4   cast             4809 non-null   object \n",
      " 5   overview         4806 non-null   object \n",
      " 6   weighted_rating  4809 non-null   float64\n",
      "dtypes: float64(1), int64(1), object(5)\n",
      "memory usage: 263.1+ KB\n"
     ]
    }
   ],
   "source": [
    "movies.info()"
   ]
  },
  {
   "cell_type": "code",
   "execution_count": 15,
   "metadata": {
    "colab": {
     "base_uri": "https://localhost:8080/",
     "height": 293
    },
    "id": "JMqYIqXLeXz8",
    "outputId": "00be7f01-3b32-4921-ee21-36478ea07324"
   },
   "outputs": [
    {
     "data": {
      "text/html": [
       "<div>\n",
       "<style scoped>\n",
       "    .dataframe tbody tr th:only-of-type {\n",
       "        vertical-align: middle;\n",
       "    }\n",
       "\n",
       "    .dataframe tbody tr th {\n",
       "        vertical-align: top;\n",
       "    }\n",
       "\n",
       "    .dataframe thead th {\n",
       "        text-align: right;\n",
       "    }\n",
       "</style>\n",
       "<table border=\"1\" class=\"dataframe\">\n",
       "  <thead>\n",
       "    <tr style=\"text-align: right;\">\n",
       "      <th></th>\n",
       "      <th>id</th>\n",
       "      <th>title</th>\n",
       "      <th>keywords</th>\n",
       "      <th>genres</th>\n",
       "      <th>cast</th>\n",
       "      <th>overview</th>\n",
       "      <th>weighted_rating</th>\n",
       "    </tr>\n",
       "  </thead>\n",
       "  <tbody>\n",
       "    <tr>\n",
       "      <th>0</th>\n",
       "      <td>19995</td>\n",
       "      <td>Avatar</td>\n",
       "      <td>[{\"id\": 1463, \"name\": \"culture clash\"}, {\"id\":...</td>\n",
       "      <td>[{\"id\": 28, \"name\": \"Action\"}, {\"id\": 12, \"nam...</td>\n",
       "      <td>[{\"cast_id\": 242, \"character\": \"Jake Sully\", \"...</td>\n",
       "      <td>In the 22nd century, a paraplegic Marine is di...</td>\n",
       "      <td>7.050449</td>\n",
       "    </tr>\n",
       "    <tr>\n",
       "      <th>1</th>\n",
       "      <td>285</td>\n",
       "      <td>Pirates of the Caribbean: At World's End</td>\n",
       "      <td>[{\"id\": 270, \"name\": \"ocean\"}, {\"id\": 726, \"na...</td>\n",
       "      <td>[{\"id\": 12, \"name\": \"Adventure\"}, {\"id\": 14, \"...</td>\n",
       "      <td>[{\"cast_id\": 4, \"character\": \"Captain Jack Spa...</td>\n",
       "      <td>Captain Barbossa, long believed to be dead, ha...</td>\n",
       "      <td>6.665452</td>\n",
       "    </tr>\n",
       "    <tr>\n",
       "      <th>2</th>\n",
       "      <td>206647</td>\n",
       "      <td>Spectre</td>\n",
       "      <td>[{\"id\": 470, \"name\": \"spy\"}, {\"id\": 818, \"name...</td>\n",
       "      <td>[{\"id\": 28, \"name\": \"Action\"}, {\"id\": 12, \"nam...</td>\n",
       "      <td>[{\"cast_id\": 1, \"character\": \"James Bond\", \"cr...</td>\n",
       "      <td>A cryptic message from Bond’s past sends him o...</td>\n",
       "      <td>6.239407</td>\n",
       "    </tr>\n",
       "    <tr>\n",
       "      <th>3</th>\n",
       "      <td>49026</td>\n",
       "      <td>The Dark Knight Rises</td>\n",
       "      <td>[{\"id\": 849, \"name\": \"dc comics\"}, {\"id\": 853,...</td>\n",
       "      <td>[{\"id\": 28, \"name\": \"Action\"}, {\"id\": 80, \"nam...</td>\n",
       "      <td>[{\"cast_id\": 2, \"character\": \"Bruce Wayne / Ba...</td>\n",
       "      <td>Following the death of District Attorney Harve...</td>\n",
       "      <td>7.346343</td>\n",
       "    </tr>\n",
       "    <tr>\n",
       "      <th>4</th>\n",
       "      <td>49529</td>\n",
       "      <td>John Carter</td>\n",
       "      <td>[{\"id\": 818, \"name\": \"based on novel\"}, {\"id\":...</td>\n",
       "      <td>[{\"id\": 28, \"name\": \"Action\"}, {\"id\": 12, \"nam...</td>\n",
       "      <td>[{\"cast_id\": 5, \"character\": \"John Carter\", \"c...</td>\n",
       "      <td>John Carter is a war-weary, former military ca...</td>\n",
       "      <td>6.096523</td>\n",
       "    </tr>\n",
       "  </tbody>\n",
       "</table>\n",
       "</div>"
      ],
      "text/plain": [
       "       id                                     title  \\\n",
       "0   19995                                    Avatar   \n",
       "1     285  Pirates of the Caribbean: At World's End   \n",
       "2  206647                                   Spectre   \n",
       "3   49026                     The Dark Knight Rises   \n",
       "4   49529                               John Carter   \n",
       "\n",
       "                                            keywords  \\\n",
       "0  [{\"id\": 1463, \"name\": \"culture clash\"}, {\"id\":...   \n",
       "1  [{\"id\": 270, \"name\": \"ocean\"}, {\"id\": 726, \"na...   \n",
       "2  [{\"id\": 470, \"name\": \"spy\"}, {\"id\": 818, \"name...   \n",
       "3  [{\"id\": 849, \"name\": \"dc comics\"}, {\"id\": 853,...   \n",
       "4  [{\"id\": 818, \"name\": \"based on novel\"}, {\"id\":...   \n",
       "\n",
       "                                              genres  \\\n",
       "0  [{\"id\": 28, \"name\": \"Action\"}, {\"id\": 12, \"nam...   \n",
       "1  [{\"id\": 12, \"name\": \"Adventure\"}, {\"id\": 14, \"...   \n",
       "2  [{\"id\": 28, \"name\": \"Action\"}, {\"id\": 12, \"nam...   \n",
       "3  [{\"id\": 28, \"name\": \"Action\"}, {\"id\": 80, \"nam...   \n",
       "4  [{\"id\": 28, \"name\": \"Action\"}, {\"id\": 12, \"nam...   \n",
       "\n",
       "                                                cast  \\\n",
       "0  [{\"cast_id\": 242, \"character\": \"Jake Sully\", \"...   \n",
       "1  [{\"cast_id\": 4, \"character\": \"Captain Jack Spa...   \n",
       "2  [{\"cast_id\": 1, \"character\": \"James Bond\", \"cr...   \n",
       "3  [{\"cast_id\": 2, \"character\": \"Bruce Wayne / Ba...   \n",
       "4  [{\"cast_id\": 5, \"character\": \"John Carter\", \"c...   \n",
       "\n",
       "                                            overview  weighted_rating  \n",
       "0  In the 22nd century, a paraplegic Marine is di...         7.050449  \n",
       "1  Captain Barbossa, long believed to be dead, ha...         6.665452  \n",
       "2  A cryptic message from Bond’s past sends him o...         6.239407  \n",
       "3  Following the death of District Attorney Harve...         7.346343  \n",
       "4  John Carter is a war-weary, former military ca...         6.096523  "
      ]
     },
     "execution_count": 15,
     "metadata": {},
     "output_type": "execute_result"
    }
   ],
   "source": [
    "movies.head()"
   ]
  },
  {
   "cell_type": "markdown",
   "metadata": {
    "id": "HIvUEMaWgdNU"
   },
   "source": [
    "dikarenakan variabel keywords, gennres, cast berbentuk JSON yang berisi id dan nama, dan kita hanya butuh namanya saja, maka kita filter variabelnya"
   ]
  },
  {
   "cell_type": "code",
   "execution_count": 16,
   "metadata": {
    "id": "Hq-7mmSmFbGe"
   },
   "outputs": [],
   "source": [
    "def extract_names(json_str):\n",
    "    try:\n",
    "        keywords = ast.literal_eval(json_str)\n",
    "        return \",\".join([item['name'] for item in keywords])\n",
    "    except (ValueError, SyntaxError):\n",
    "        return \"\"\n",
    "\n",
    "movies['genres'] = movies['genres'].apply(extract_names)\n",
    "movies['keywords'] = movies['keywords'].apply(extract_names)\n",
    "movies['cast'] = movies['cast'].apply(extract_names)"
   ]
  },
  {
   "cell_type": "code",
   "execution_count": 17,
   "metadata": {
    "colab": {
     "base_uri": "https://localhost:8080/",
     "height": 293
    },
    "id": "vHNKD9kaFbGe",
    "outputId": "68f42168-ea33-43f5-de37-b458df1d3517"
   },
   "outputs": [
    {
     "data": {
      "text/html": [
       "<div>\n",
       "<style scoped>\n",
       "    .dataframe tbody tr th:only-of-type {\n",
       "        vertical-align: middle;\n",
       "    }\n",
       "\n",
       "    .dataframe tbody tr th {\n",
       "        vertical-align: top;\n",
       "    }\n",
       "\n",
       "    .dataframe thead th {\n",
       "        text-align: right;\n",
       "    }\n",
       "</style>\n",
       "<table border=\"1\" class=\"dataframe\">\n",
       "  <thead>\n",
       "    <tr style=\"text-align: right;\">\n",
       "      <th></th>\n",
       "      <th>id</th>\n",
       "      <th>title</th>\n",
       "      <th>keywords</th>\n",
       "      <th>genres</th>\n",
       "      <th>cast</th>\n",
       "      <th>overview</th>\n",
       "      <th>weighted_rating</th>\n",
       "    </tr>\n",
       "  </thead>\n",
       "  <tbody>\n",
       "    <tr>\n",
       "      <th>0</th>\n",
       "      <td>19995</td>\n",
       "      <td>Avatar</td>\n",
       "      <td>culture clash,future,space war,space colony,so...</td>\n",
       "      <td>Action,Adventure,Fantasy,Science Fiction</td>\n",
       "      <td>Sam Worthington,Zoe Saldana,Sigourney Weaver,S...</td>\n",
       "      <td>In the 22nd century, a paraplegic Marine is di...</td>\n",
       "      <td>7.050449</td>\n",
       "    </tr>\n",
       "    <tr>\n",
       "      <th>1</th>\n",
       "      <td>285</td>\n",
       "      <td>Pirates of the Caribbean: At World's End</td>\n",
       "      <td>ocean,drug abuse,exotic island,east india trad...</td>\n",
       "      <td>Adventure,Fantasy,Action</td>\n",
       "      <td>Johnny Depp,Orlando Bloom,Keira Knightley,Stel...</td>\n",
       "      <td>Captain Barbossa, long believed to be dead, ha...</td>\n",
       "      <td>6.665452</td>\n",
       "    </tr>\n",
       "    <tr>\n",
       "      <th>2</th>\n",
       "      <td>206647</td>\n",
       "      <td>Spectre</td>\n",
       "      <td>spy,based on novel,secret agent,sequel,mi6,bri...</td>\n",
       "      <td>Action,Adventure,Crime</td>\n",
       "      <td>Daniel Craig,Christoph Waltz,Léa Seydoux,Ralph...</td>\n",
       "      <td>A cryptic message from Bond’s past sends him o...</td>\n",
       "      <td>6.239407</td>\n",
       "    </tr>\n",
       "    <tr>\n",
       "      <th>3</th>\n",
       "      <td>49026</td>\n",
       "      <td>The Dark Knight Rises</td>\n",
       "      <td>dc comics,crime fighter,terrorist,secret ident...</td>\n",
       "      <td>Action,Crime,Drama,Thriller</td>\n",
       "      <td>Christian Bale,Michael Caine,Gary Oldman,Anne ...</td>\n",
       "      <td>Following the death of District Attorney Harve...</td>\n",
       "      <td>7.346343</td>\n",
       "    </tr>\n",
       "    <tr>\n",
       "      <th>4</th>\n",
       "      <td>49529</td>\n",
       "      <td>John Carter</td>\n",
       "      <td>based on novel,mars,medallion,space travel,pri...</td>\n",
       "      <td>Action,Adventure,Science Fiction</td>\n",
       "      <td>Taylor Kitsch,Lynn Collins,Samantha Morton,Wil...</td>\n",
       "      <td>John Carter is a war-weary, former military ca...</td>\n",
       "      <td>6.096523</td>\n",
       "    </tr>\n",
       "  </tbody>\n",
       "</table>\n",
       "</div>"
      ],
      "text/plain": [
       "       id                                     title  \\\n",
       "0   19995                                    Avatar   \n",
       "1     285  Pirates of the Caribbean: At World's End   \n",
       "2  206647                                   Spectre   \n",
       "3   49026                     The Dark Knight Rises   \n",
       "4   49529                               John Carter   \n",
       "\n",
       "                                            keywords  \\\n",
       "0  culture clash,future,space war,space colony,so...   \n",
       "1  ocean,drug abuse,exotic island,east india trad...   \n",
       "2  spy,based on novel,secret agent,sequel,mi6,bri...   \n",
       "3  dc comics,crime fighter,terrorist,secret ident...   \n",
       "4  based on novel,mars,medallion,space travel,pri...   \n",
       "\n",
       "                                     genres  \\\n",
       "0  Action,Adventure,Fantasy,Science Fiction   \n",
       "1                  Adventure,Fantasy,Action   \n",
       "2                    Action,Adventure,Crime   \n",
       "3               Action,Crime,Drama,Thriller   \n",
       "4          Action,Adventure,Science Fiction   \n",
       "\n",
       "                                                cast  \\\n",
       "0  Sam Worthington,Zoe Saldana,Sigourney Weaver,S...   \n",
       "1  Johnny Depp,Orlando Bloom,Keira Knightley,Stel...   \n",
       "2  Daniel Craig,Christoph Waltz,Léa Seydoux,Ralph...   \n",
       "3  Christian Bale,Michael Caine,Gary Oldman,Anne ...   \n",
       "4  Taylor Kitsch,Lynn Collins,Samantha Morton,Wil...   \n",
       "\n",
       "                                            overview  weighted_rating  \n",
       "0  In the 22nd century, a paraplegic Marine is di...         7.050449  \n",
       "1  Captain Barbossa, long believed to be dead, ha...         6.665452  \n",
       "2  A cryptic message from Bond’s past sends him o...         6.239407  \n",
       "3  Following the death of District Attorney Harve...         7.346343  \n",
       "4  John Carter is a war-weary, former military ca...         6.096523  "
      ]
     },
     "execution_count": 17,
     "metadata": {},
     "output_type": "execute_result"
    }
   ],
   "source": [
    "movies.head()"
   ]
  },
  {
   "cell_type": "markdown",
   "metadata": {
    "id": "Oz1C0rmRH4qv"
   },
   "source": [
    "dikarenakan pada fungsi extract_names, jika terjadi error saat memproses string JSON (misalnya, format JSON tidak valid), fungsi ini akan mengembalikan string kosong (\"\"), maka kita rubah nilai string kosong menjadi nan agar terdeteksi bahwa string tersebut merupakan missing value dengan fungsi replace()."
   ]
  },
  {
   "cell_type": "code",
   "execution_count": 18,
   "metadata": {
    "colab": {
     "base_uri": "https://localhost:8080/",
     "height": 303
    },
    "id": "xhk6m8JuF4F3",
    "outputId": "175e5b54-6a64-46c3-8dd3-0e365359c796"
   },
   "outputs": [
    {
     "data": {
      "text/plain": [
       "id                   0\n",
       "title                0\n",
       "keywords           412\n",
       "genres              28\n",
       "cast                43\n",
       "overview             3\n",
       "weighted_rating      0\n",
       "dtype: int64"
      ]
     },
     "execution_count": 18,
     "metadata": {},
     "output_type": "execute_result"
    }
   ],
   "source": [
    "movies = movies.replace('', np.nan)\n",
    "movies.isnull().sum()"
   ]
  },
  {
   "cell_type": "markdown",
   "metadata": {
    "id": "dw8YCO33gVhJ"
   },
   "source": [
    "terdapat missing value maka kita hapus dengan fungsi dropna()"
   ]
  },
  {
   "cell_type": "code",
   "execution_count": 19,
   "metadata": {
    "colab": {
     "base_uri": "https://localhost:8080/",
     "height": 303
    },
    "id": "U7dXDp-5IcGX",
    "outputId": "253f4b3e-ae1f-447f-9506-e82f9d2ee312"
   },
   "outputs": [
    {
     "data": {
      "text/plain": [
       "id                 0\n",
       "title              0\n",
       "keywords           0\n",
       "genres             0\n",
       "cast               0\n",
       "overview           0\n",
       "weighted_rating    0\n",
       "dtype: int64"
      ]
     },
     "execution_count": 19,
     "metadata": {},
     "output_type": "execute_result"
    }
   ],
   "source": [
    "movies=movies.dropna()\n",
    "movies.isnull().sum()"
   ]
  },
  {
   "cell_type": "code",
   "execution_count": 20,
   "metadata": {
    "colab": {
     "base_uri": "https://localhost:8080/"
    },
    "id": "ciCMlOWuFkuY",
    "outputId": "022941d0-2067-4f35-ef75-b9f029e89693"
   },
   "outputs": [
    {
     "name": "stdout",
     "output_type": "stream",
     "text": [
      "Jumlah genre unik : 20\n",
      "Jumlah keywords unik : 9799\n",
      "Jumlah cast unik : 52461\n"
     ]
    }
   ],
   "source": [
    "all_genres = list(itertools.chain(*movies['genres'].str.split(',').apply(lambda x: [i.strip() for i in x])))\n",
    "\n",
    "all_keywords = list(itertools.chain(*movies['keywords'].str.split(',').apply(lambda x: [i.strip() for i in x])))\n",
    "\n",
    "all_cast = list(itertools.chain(*movies['cast'].str.split(',').apply(lambda x: [i.strip() for i in x])))\n",
    "# Filter untuk mengecualikan string kosong\n",
    "unique_genres = set(genre for genre in all_genres if genre)\n",
    "\n",
    "unique_keywords = set(keyword for keyword in all_keywords if keyword)\n",
    "\n",
    "unique_cast = set(cast for cast in all_cast if cast)\n",
    "\n",
    "print(\"Jumlah genre unik :\",len(unique_genres))\n",
    "print(\"Jumlah keywords unik :\",len(unique_keywords))\n",
    "print(\"Jumlah cast unik :\",len(unique_cast))"
   ]
  },
  {
   "cell_type": "markdown",
   "metadata": {
    "id": "BCHdVIZ7gqDJ"
   },
   "source": [
    "membuang spasi pada cast agar nama seperti taylor berbeda antara taylor swift dan taylor kitsch"
   ]
  },
  {
   "cell_type": "code",
   "execution_count": 21,
   "metadata": {
    "id": "b4QfVBst7JXn"
   },
   "outputs": [],
   "source": [
    "movies['cast'] = movies['cast'].str.replace(' ', '')"
   ]
  },
  {
   "cell_type": "markdown",
   "metadata": {
    "id": "F-bxcO2rg3Hg"
   },
   "source": [
    "menggabungkan semua variabel ke 1 variabel features"
   ]
  },
  {
   "cell_type": "code",
   "execution_count": 22,
   "metadata": {
    "id": "qeaGrARxFbGf"
   },
   "outputs": [],
   "source": [
    "movies['features'] = ' ' + movies['genres'] + ' ' + movies['keywords'] + ' ' + movies['cast'] + ' ' + movies['overview'] + movies['weighted_rating'].astype(str)"
   ]
  },
  {
   "cell_type": "markdown",
   "metadata": {
    "id": "83QW0O-yg7Hm"
   },
   "source": [
    "lowercase text dan mengganti koma dengan spasi"
   ]
  },
  {
   "cell_type": "code",
   "execution_count": 23,
   "metadata": {
    "id": "OLRy70UiAu-t"
   },
   "outputs": [],
   "source": [
    "movies['features'] = movies['features'].str.lower()\n",
    "movies['features'] = movies['features'].str.replace(',', ' ')"
   ]
  },
  {
   "cell_type": "code",
   "execution_count": 30,
   "metadata": {
    "colab": {
     "base_uri": "https://localhost:8080/",
     "height": 640
    },
    "id": "edMMzCpEHoPE",
    "outputId": "d23c3888-a7e7-4626-8f69-2e02b501e61f"
   },
   "outputs": [
    {
     "data": {
      "text/html": [
       "<div>\n",
       "<style scoped>\n",
       "    .dataframe tbody tr th:only-of-type {\n",
       "        vertical-align: middle;\n",
       "    }\n",
       "\n",
       "    .dataframe tbody tr th {\n",
       "        vertical-align: top;\n",
       "    }\n",
       "\n",
       "    .dataframe thead th {\n",
       "        text-align: right;\n",
       "    }\n",
       "</style>\n",
       "<table border=\"1\" class=\"dataframe\">\n",
       "  <thead>\n",
       "    <tr style=\"text-align: right;\">\n",
       "      <th></th>\n",
       "      <th>id</th>\n",
       "      <th>title</th>\n",
       "      <th>keywords</th>\n",
       "      <th>genres</th>\n",
       "      <th>cast</th>\n",
       "      <th>overview</th>\n",
       "      <th>weighted_rating</th>\n",
       "      <th>features</th>\n",
       "      <th>tokens</th>\n",
       "      <th>embedding</th>\n",
       "    </tr>\n",
       "  </thead>\n",
       "  <tbody>\n",
       "    <tr>\n",
       "      <th>0</th>\n",
       "      <td>19995</td>\n",
       "      <td>Avatar</td>\n",
       "      <td>culture clash,future,space war,space colony,so...</td>\n",
       "      <td>Action,Adventure,Fantasy,Science Fiction</td>\n",
       "      <td>SamWorthington,ZoeSaldana,SigourneyWeaver,Step...</td>\n",
       "      <td>In the 22nd century, a paraplegic Marine is di...</td>\n",
       "      <td>7.050449</td>\n",
       "      <td>action adventure fantasy science fiction cult...</td>\n",
       "      <td>[action, adventure, fantasy, science, fiction,...</td>\n",
       "      <td>[-0.1511568, 0.17975682, -0.01912259, 0.157017...</td>\n",
       "    </tr>\n",
       "    <tr>\n",
       "      <th>1</th>\n",
       "      <td>285</td>\n",
       "      <td>Pirates of the Caribbean: At World's End</td>\n",
       "      <td>ocean,drug abuse,exotic island,east india trad...</td>\n",
       "      <td>Adventure,Fantasy,Action</td>\n",
       "      <td>JohnnyDepp,OrlandoBloom,KeiraKnightley,Stellan...</td>\n",
       "      <td>Captain Barbossa, long believed to be dead, ha...</td>\n",
       "      <td>6.665452</td>\n",
       "      <td>adventure fantasy action ocean drug abuse exo...</td>\n",
       "      <td>[adventure, fantasy, action, ocean, drug, abus...</td>\n",
       "      <td>[-0.2002288, 0.33703604, 2.0523245e-05, 0.1860...</td>\n",
       "    </tr>\n",
       "    <tr>\n",
       "      <th>2</th>\n",
       "      <td>206647</td>\n",
       "      <td>Spectre</td>\n",
       "      <td>spy,based on novel,secret agent,sequel,mi6,bri...</td>\n",
       "      <td>Action,Adventure,Crime</td>\n",
       "      <td>DanielCraig,ChristophWaltz,LéaSeydoux,RalphFie...</td>\n",
       "      <td>A cryptic message from Bond’s past sends him o...</td>\n",
       "      <td>6.239407</td>\n",
       "      <td>action adventure crime spy based on novel sec...</td>\n",
       "      <td>[action, adventure, crime, spy, based, on, nov...</td>\n",
       "      <td>[-0.11448074, 0.2100729, 0.0057210997, 0.09875...</td>\n",
       "    </tr>\n",
       "    <tr>\n",
       "      <th>3</th>\n",
       "      <td>49026</td>\n",
       "      <td>The Dark Knight Rises</td>\n",
       "      <td>dc comics,crime fighter,terrorist,secret ident...</td>\n",
       "      <td>Action,Crime,Drama,Thriller</td>\n",
       "      <td>ChristianBale,MichaelCaine,GaryOldman,AnneHath...</td>\n",
       "      <td>Following the death of District Attorney Harve...</td>\n",
       "      <td>7.346343</td>\n",
       "      <td>action crime drama thriller dc comics crime f...</td>\n",
       "      <td>[action, crime, drama, thriller, dc, comics, c...</td>\n",
       "      <td>[-0.11924861, 0.18188389, 0.021172062, 0.12949...</td>\n",
       "    </tr>\n",
       "    <tr>\n",
       "      <th>4</th>\n",
       "      <td>49529</td>\n",
       "      <td>John Carter</td>\n",
       "      <td>based on novel,mars,medallion,space travel,pri...</td>\n",
       "      <td>Action,Adventure,Science Fiction</td>\n",
       "      <td>TaylorKitsch,LynnCollins,SamanthaMorton,Willem...</td>\n",
       "      <td>John Carter is a war-weary, former military ca...</td>\n",
       "      <td>6.096523</td>\n",
       "      <td>action adventure science fiction based on nov...</td>\n",
       "      <td>[action, adventure, science, fiction, based, o...</td>\n",
       "      <td>[-0.19236565, 0.33978286, -0.022269525, 0.1510...</td>\n",
       "    </tr>\n",
       "  </tbody>\n",
       "</table>\n",
       "</div>"
      ],
      "text/plain": [
       "       id                                     title  \\\n",
       "0   19995                                    Avatar   \n",
       "1     285  Pirates of the Caribbean: At World's End   \n",
       "2  206647                                   Spectre   \n",
       "3   49026                     The Dark Knight Rises   \n",
       "4   49529                               John Carter   \n",
       "\n",
       "                                            keywords  \\\n",
       "0  culture clash,future,space war,space colony,so...   \n",
       "1  ocean,drug abuse,exotic island,east india trad...   \n",
       "2  spy,based on novel,secret agent,sequel,mi6,bri...   \n",
       "3  dc comics,crime fighter,terrorist,secret ident...   \n",
       "4  based on novel,mars,medallion,space travel,pri...   \n",
       "\n",
       "                                     genres  \\\n",
       "0  Action,Adventure,Fantasy,Science Fiction   \n",
       "1                  Adventure,Fantasy,Action   \n",
       "2                    Action,Adventure,Crime   \n",
       "3               Action,Crime,Drama,Thriller   \n",
       "4          Action,Adventure,Science Fiction   \n",
       "\n",
       "                                                cast  \\\n",
       "0  SamWorthington,ZoeSaldana,SigourneyWeaver,Step...   \n",
       "1  JohnnyDepp,OrlandoBloom,KeiraKnightley,Stellan...   \n",
       "2  DanielCraig,ChristophWaltz,LéaSeydoux,RalphFie...   \n",
       "3  ChristianBale,MichaelCaine,GaryOldman,AnneHath...   \n",
       "4  TaylorKitsch,LynnCollins,SamanthaMorton,Willem...   \n",
       "\n",
       "                                            overview  weighted_rating  \\\n",
       "0  In the 22nd century, a paraplegic Marine is di...         7.050449   \n",
       "1  Captain Barbossa, long believed to be dead, ha...         6.665452   \n",
       "2  A cryptic message from Bond’s past sends him o...         6.239407   \n",
       "3  Following the death of District Attorney Harve...         7.346343   \n",
       "4  John Carter is a war-weary, former military ca...         6.096523   \n",
       "\n",
       "                                            features  \\\n",
       "0   action adventure fantasy science fiction cult...   \n",
       "1   adventure fantasy action ocean drug abuse exo...   \n",
       "2   action adventure crime spy based on novel sec...   \n",
       "3   action crime drama thriller dc comics crime f...   \n",
       "4   action adventure science fiction based on nov...   \n",
       "\n",
       "                                              tokens  \\\n",
       "0  [action, adventure, fantasy, science, fiction,...   \n",
       "1  [adventure, fantasy, action, ocean, drug, abus...   \n",
       "2  [action, adventure, crime, spy, based, on, nov...   \n",
       "3  [action, crime, drama, thriller, dc, comics, c...   \n",
       "4  [action, adventure, science, fiction, based, o...   \n",
       "\n",
       "                                           embedding  \n",
       "0  [-0.1511568, 0.17975682, -0.01912259, 0.157017...  \n",
       "1  [-0.2002288, 0.33703604, 2.0523245e-05, 0.1860...  \n",
       "2  [-0.11448074, 0.2100729, 0.0057210997, 0.09875...  \n",
       "3  [-0.11924861, 0.18188389, 0.021172062, 0.12949...  \n",
       "4  [-0.19236565, 0.33978286, -0.022269525, 0.1510...  "
      ]
     },
     "execution_count": 30,
     "metadata": {},
     "output_type": "execute_result"
    }
   ],
   "source": [
    "movies.head()"
   ]
  },
  {
   "cell_type": "markdown",
   "metadata": {},
   "source": [
    "### Ekstraksi Fitur"
   ]
  },
  {
   "cell_type": "markdown",
   "metadata": {},
   "source": [
    "#### TF-IDF Vektorizer"
   ]
  },
  {
   "cell_type": "code",
   "execution_count": 25,
   "metadata": {
    "id": "q75cibgj85aW"
   },
   "outputs": [],
   "source": [
    "tfidf = TfidfVectorizer()\n",
    "tfidf_matrix = tfidf.fit_transform(movies['features'])"
   ]
  },
  {
   "cell_type": "code",
   "execution_count": 26,
   "metadata": {
    "colab": {
     "base_uri": "https://localhost:8080/"
    },
    "id": "dXkeEpsKBynx",
    "outputId": "93143b38-de80-4869-dcee-d7ba54d9dbe3"
   },
   "outputs": [
    {
     "data": {
      "text/plain": [
       "(4384, 79116)"
      ]
     },
     "execution_count": 26,
     "metadata": {},
     "output_type": "execute_result"
    }
   ],
   "source": [
    "tfidf_matrix.shape"
   ]
  },
  {
   "cell_type": "markdown",
   "metadata": {
    "id": "ifoKVreuhUlq"
   },
   "source": [
    "Perhatikanlah, matriks yang kita miliki berukuran (4384, 79116). Nilai 4384 merupakan ukuran data dan 79116 merupakan matrik features dari semua film.\n",
    "\n",
    "\n"
   ]
  },
  {
   "cell_type": "markdown",
   "metadata": {},
   "source": [
    "#### Word Embeddings(Word2Vec)"
   ]
  },
  {
   "cell_type": "code",
   "execution_count": 27,
   "metadata": {
    "id": "v3U5cXJgq9J4"
   },
   "outputs": [],
   "source": [
    "movies['tokens'] = movies['features'].apply(lambda x: x.split())"
   ]
  },
  {
   "cell_type": "code",
   "execution_count": 28,
   "metadata": {
    "id": "6VWJlfNcD9dP"
   },
   "outputs": [],
   "source": [
    "model = Word2Vec(sentences=movies['tokens'], vector_size=100, window=5, min_count=1, workers=4, sg=1)\n"
   ]
  },
  {
   "cell_type": "code",
   "execution_count": 65,
   "metadata": {},
   "outputs": [],
   "source": [
    "def get_relevant_words(tokens, model):\n",
    "    \"\"\"Ambil kata-kata yang ada dalam model Word2Vec.\"\"\"\n",
    "    return {word for word in tokens if word in model.wv}\n",
    "\n",
    "movies[\"relevant_words\"] = movies[\"tokens\"].apply(lambda x: get_relevant_words(x, model))"
   ]
  },
  {
   "cell_type": "markdown",
   "metadata": {
    "id": "1QpBdpfnhDmX"
   },
   "source": [
    "## Modelling"
   ]
  },
  {
   "cell_type": "markdown",
   "metadata": {},
   "source": [
    "### Modelling dengan cosine_similarity dengan ekstraksi fitur TF-IDF"
   ]
  },
  {
   "cell_type": "code",
   "execution_count": 31,
   "metadata": {
    "id": "vhdB4HnbBh-T"
   },
   "outputs": [
    {
     "data": {
      "text/plain": [
       "array([[1.        , 0.01150599, 0.00424635, ..., 0.00800514, 0.01180569,\n",
       "        0.00363262],\n",
       "       [0.01150599, 1.        , 0.01887073, ..., 0.01873573, 0.02137729,\n",
       "        0.01038971],\n",
       "       [0.00424635, 0.01887073, 1.        , ..., 0.01854263, 0.01300524,\n",
       "        0.00654078],\n",
       "       ...,\n",
       "       [0.00800514, 0.01873573, 0.01854263, ..., 1.        , 0.01744442,\n",
       "        0.02373094],\n",
       "       [0.01180569, 0.02137729, 0.01300524, ..., 0.01744442, 1.        ,\n",
       "        0.03227221],\n",
       "       [0.00363262, 0.01038971, 0.00654078, ..., 0.02373094, 0.03227221,\n",
       "        1.        ]])"
      ]
     },
     "execution_count": 31,
     "metadata": {},
     "output_type": "execute_result"
    }
   ],
   "source": [
    "cosine_sim = cosine_similarity(tfidf_matrix, tfidf_matrix)\n",
    "cosine_sim"
   ]
  },
  {
   "cell_type": "code",
   "execution_count": 32,
   "metadata": {
    "colab": {
     "base_uri": "https://localhost:8080/"
    },
    "id": "_LKpktuforPv",
    "outputId": "e4748e27-b166-463e-e97d-903d356c8ddd"
   },
   "outputs": [
    {
     "name": "stdout",
     "output_type": "stream",
     "text": [
      "Shape: (4384, 4384)\n"
     ]
    }
   ],
   "source": [
    "# Membuat dataframe dari variabel cosine_sim\n",
    "cosine_sim_df = pd.DataFrame(cosine_sim, index=movies['title'], columns=movies['title'])\n",
    "print('Shape:', cosine_sim_df.shape)"
   ]
  },
  {
   "cell_type": "code",
   "execution_count": 148,
   "metadata": {
    "id": "RohUWOr6oops"
   },
   "outputs": [],
   "source": [
    "def movies_recommendation(title, similarity_data=cosine_sim_df, items=movies[['title', 'genres', 'cast', 'keywords']], k=5):\n",
    "\n",
    "    # Mengambil data dengan menggunakan argpartition untuk melakukan partisi secara tidak langsung sepanjang sumbu yang diberikan\n",
    "    # Dataframe diubah menjadi numpy\n",
    "    # Range(start, stop, step)\n",
    "    index = similarity_data.loc[:,title].to_numpy().argpartition(\n",
    "        range(-1, -k, -1))\n",
    "\n",
    "    # Mengambil data dengan similarity terbesar dari index yang ada\n",
    "    closest = similarity_data.columns[index[-1:-(k+2):-1]]\n",
    "\n",
    "    closest = closest.drop(title, errors='ignore')\n",
    "    recommendations = pd.DataFrame({\n",
    "        \"title\": closest,\n",
    "        \"similarity\": similarity_data.loc[title, closest].values\n",
    "    })\n",
    "\n",
    "    return recommendations.merge(items, on=\"title\").head(k)"
   ]
  },
  {
   "cell_type": "code",
   "execution_count": 149,
   "metadata": {
    "colab": {
     "base_uri": "https://localhost:8080/",
     "height": 710
    },
    "id": "u_TTXm8zrtuc",
    "outputId": "3f6946b2-9902-48f1-d8f4-a740c62d6b77"
   },
   "outputs": [
    {
     "data": {
      "text/html": [
       "<div>\n",
       "<style scoped>\n",
       "    .dataframe tbody tr th:only-of-type {\n",
       "        vertical-align: middle;\n",
       "    }\n",
       "\n",
       "    .dataframe tbody tr th {\n",
       "        vertical-align: top;\n",
       "    }\n",
       "\n",
       "    .dataframe thead th {\n",
       "        text-align: right;\n",
       "    }\n",
       "</style>\n",
       "<table border=\"1\" class=\"dataframe\">\n",
       "  <thead>\n",
       "    <tr style=\"text-align: right;\">\n",
       "      <th></th>\n",
       "      <th>title</th>\n",
       "      <th>similarity</th>\n",
       "      <th>genres</th>\n",
       "      <th>cast</th>\n",
       "      <th>keywords</th>\n",
       "    </tr>\n",
       "  </thead>\n",
       "  <tbody>\n",
       "    <tr>\n",
       "      <th>0</th>\n",
       "      <td>Final Destination 5</td>\n",
       "      <td>0.199531</td>\n",
       "      <td>Horror,Mystery</td>\n",
       "      <td>EmmaBell,NicholasD'Agosto,MilesFisher,EllenWro...</td>\n",
       "      <td>premonition,death by accident,crash,end is her...</td>\n",
       "    </tr>\n",
       "    <tr>\n",
       "      <th>1</th>\n",
       "      <td>Days of Thunder</td>\n",
       "      <td>0.183908</td>\n",
       "      <td>Adventure</td>\n",
       "      <td>TomCruise,RobertDuvall,NicoleKidman,RandyQuaid...</td>\n",
       "      <td>stock-car-race,daytona,car crash</td>\n",
       "    </tr>\n",
       "    <tr>\n",
       "      <th>2</th>\n",
       "      <td>Death Race</td>\n",
       "      <td>0.158057</td>\n",
       "      <td>Action,Thriller,Science Fiction</td>\n",
       "      <td>JasonStatham,JoanAllen,IanMcShane,TyreseGibson...</td>\n",
       "      <td>car race,dystopia,matter of life and death,pri...</td>\n",
       "    </tr>\n",
       "    <tr>\n",
       "      <th>3</th>\n",
       "      <td>The Wraith</td>\n",
       "      <td>0.151229</td>\n",
       "      <td>Romance,Science Fiction,Horror,Action,Crime</td>\n",
       "      <td>CharlieSheen,NickCassavetes,SherilynFenn,Randy...</td>\n",
       "      <td>male nudity,female nudity,sex,killing,sheriff,...</td>\n",
       "    </tr>\n",
       "    <tr>\n",
       "      <th>4</th>\n",
       "      <td>Soul Survivors</td>\n",
       "      <td>0.132740</td>\n",
       "      <td>Horror,Mystery,Thriller</td>\n",
       "      <td>ElizaDushku,MelissaSagemiller,WesBentley,Casey...</td>\n",
       "      <td>hallucination,car crash,death,sole survivor</td>\n",
       "    </tr>\n",
       "  </tbody>\n",
       "</table>\n",
       "</div>"
      ],
      "text/plain": [
       "                 title  similarity  \\\n",
       "0  Final Destination 5    0.199531   \n",
       "1      Days of Thunder    0.183908   \n",
       "2           Death Race    0.158057   \n",
       "3           The Wraith    0.151229   \n",
       "4       Soul Survivors    0.132740   \n",
       "\n",
       "                                        genres  \\\n",
       "0                               Horror,Mystery   \n",
       "1                                    Adventure   \n",
       "2              Action,Thriller,Science Fiction   \n",
       "3  Romance,Science Fiction,Horror,Action,Crime   \n",
       "4                      Horror,Mystery,Thriller   \n",
       "\n",
       "                                                cast  \\\n",
       "0  EmmaBell,NicholasD'Agosto,MilesFisher,EllenWro...   \n",
       "1  TomCruise,RobertDuvall,NicoleKidman,RandyQuaid...   \n",
       "2  JasonStatham,JoanAllen,IanMcShane,TyreseGibson...   \n",
       "3  CharlieSheen,NickCassavetes,SherilynFenn,Randy...   \n",
       "4  ElizaDushku,MelissaSagemiller,WesBentley,Casey...   \n",
       "\n",
       "                                            keywords  \n",
       "0  premonition,death by accident,crash,end is her...  \n",
       "1                   stock-car-race,daytona,car crash  \n",
       "2  car race,dystopia,matter of life and death,pri...  \n",
       "3  male nudity,female nudity,sex,killing,sheriff,...  \n",
       "4        hallucination,car crash,death,sole survivor  "
      ]
     },
     "execution_count": 149,
     "metadata": {},
     "output_type": "execute_result"
    }
   ],
   "source": [
    "movies_recommendation(\"The Final Destination\")"
   ]
  },
  {
   "cell_type": "markdown",
   "metadata": {
    "id": "b0tMDK_E0aCL"
   },
   "source": [
    "### Modelling dengan jaccard similarity dengan ekstraksi fitur word2vec"
   ]
  },
  {
   "cell_type": "code",
   "execution_count": 66,
   "metadata": {},
   "outputs": [],
   "source": [
    "def jaccard_similarity(set1, set2):\n",
    "    intersection = set1.intersection(set2)\n",
    "    union = set1.union(set2)\n",
    "    if not union:  # Hindari pembagian oleh nol\n",
    "        return 0\n",
    "    return len(intersection) / len(union)"
   ]
  },
  {
   "cell_type": "code",
   "execution_count": 150,
   "metadata": {},
   "outputs": [],
   "source": [
    "def recommend_movies_jaccard(title, df, top_n=5):\n",
    "    # Ambil himpunan kata relevan untuk film target\n",
    "    selected_movie = df[df[\"title\"].str.lower() == title.lower()]\n",
    "    if selected_movie.empty:\n",
    "        return f\"Film '{title}' tidak ditemukan.\"\n",
    "    \n",
    "    target_words = selected_movie.iloc[0][\"relevant_words\"]\n",
    "    target_index = selected_movie.index[0]\n",
    "    # Hitung Jaccard Similarity untuk semua film\n",
    "    df[\"similarity\"] = df[\"relevant_words\"].apply(lambda x: jaccard_similarity(target_words, x))\n",
    "    # Hilangkan film target dari daftar rekomendasi\n",
    "    recommendations = df[df.index != target_index] \n",
    "    # Urutkan berdasarkan kesamaan\n",
    "    recommendations = recommendations.sort_values(\"similarity\", ascending=False).head(top_n)\n",
    "    return recommendations[[\"title\",\"genres\",\"overview\",\"cast\", \"similarity\"]]"
   ]
  },
  {
   "cell_type": "code",
   "execution_count": 151,
   "metadata": {},
   "outputs": [
    {
     "data": {
      "text/html": [
       "<div>\n",
       "<style scoped>\n",
       "    .dataframe tbody tr th:only-of-type {\n",
       "        vertical-align: middle;\n",
       "    }\n",
       "\n",
       "    .dataframe tbody tr th {\n",
       "        vertical-align: top;\n",
       "    }\n",
       "\n",
       "    .dataframe thead th {\n",
       "        text-align: right;\n",
       "    }\n",
       "</style>\n",
       "<table border=\"1\" class=\"dataframe\">\n",
       "  <thead>\n",
       "    <tr style=\"text-align: right;\">\n",
       "      <th></th>\n",
       "      <th>title</th>\n",
       "      <th>genres</th>\n",
       "      <th>overview</th>\n",
       "      <th>cast</th>\n",
       "      <th>similarity</th>\n",
       "    </tr>\n",
       "  </thead>\n",
       "  <tbody>\n",
       "    <tr>\n",
       "      <th>1841</th>\n",
       "      <td>Final Destination 3</td>\n",
       "      <td>Horror,Mystery</td>\n",
       "      <td>A student's premonition of a deadly rollercoas...</td>\n",
       "      <td>MaryElizabethWinstead,RyanMerriman,KrisLemche,...</td>\n",
       "      <td>0.164706</td>\n",
       "    </tr>\n",
       "    <tr>\n",
       "      <th>1995</th>\n",
       "      <td>Final Destination</td>\n",
       "      <td>Horror</td>\n",
       "      <td>After a teenager has a terrifying vision of hi...</td>\n",
       "      <td>DevonSawa,AliLarter,KerrSmith,TonyTodd,SeannWi...</td>\n",
       "      <td>0.142857</td>\n",
       "    </tr>\n",
       "    <tr>\n",
       "      <th>4150</th>\n",
       "      <td>No Man's Land: The Rise of Reeker</td>\n",
       "      <td>Horror,Thriller</td>\n",
       "      <td>A sheriff and his son who are tracking down a ...</td>\n",
       "      <td>StephenMartines,ValerieCruz,MirceaMonroe,Desmo...</td>\n",
       "      <td>0.134021</td>\n",
       "    </tr>\n",
       "    <tr>\n",
       "      <th>1225</th>\n",
       "      <td>Final Destination 5</td>\n",
       "      <td>Horror,Mystery</td>\n",
       "      <td>In this fifth installment, Death is just as om...</td>\n",
       "      <td>EmmaBell,NicholasD'Agosto,MilesFisher,EllenWro...</td>\n",
       "      <td>0.127451</td>\n",
       "    </tr>\n",
       "    <tr>\n",
       "      <th>2120</th>\n",
       "      <td>Premonition</td>\n",
       "      <td>Thriller,Drama,Mystery</td>\n",
       "      <td>A depressed housewife who learns her husband w...</td>\n",
       "      <td>SandraBullock,JulianMcMahon,CourtneyTaylorBurn...</td>\n",
       "      <td>0.117647</td>\n",
       "    </tr>\n",
       "  </tbody>\n",
       "</table>\n",
       "</div>"
      ],
      "text/plain": [
       "                                  title                  genres  \\\n",
       "1841                Final Destination 3          Horror,Mystery   \n",
       "1995                  Final Destination                  Horror   \n",
       "4150  No Man's Land: The Rise of Reeker         Horror,Thriller   \n",
       "1225                Final Destination 5          Horror,Mystery   \n",
       "2120                        Premonition  Thriller,Drama,Mystery   \n",
       "\n",
       "                                               overview  \\\n",
       "1841  A student's premonition of a deadly rollercoas...   \n",
       "1995  After a teenager has a terrifying vision of hi...   \n",
       "4150  A sheriff and his son who are tracking down a ...   \n",
       "1225  In this fifth installment, Death is just as om...   \n",
       "2120  A depressed housewife who learns her husband w...   \n",
       "\n",
       "                                                   cast  similarity  \n",
       "1841  MaryElizabethWinstead,RyanMerriman,KrisLemche,...    0.164706  \n",
       "1995  DevonSawa,AliLarter,KerrSmith,TonyTodd,SeannWi...    0.142857  \n",
       "4150  StephenMartines,ValerieCruz,MirceaMonroe,Desmo...    0.134021  \n",
       "1225  EmmaBell,NicholasD'Agosto,MilesFisher,EllenWro...    0.127451  \n",
       "2120  SandraBullock,JulianMcMahon,CourtneyTaylorBurn...    0.117647  "
      ]
     },
     "execution_count": 151,
     "metadata": {},
     "output_type": "execute_result"
    }
   ],
   "source": [
    "recommendations = recommend_movies_jaccard(\"The Final Destination\", movies)\n",
    "recommendations"
   ]
  },
  {
   "cell_type": "markdown",
   "metadata": {
    "id": "9k7kFnN10R9y"
   },
   "source": [
    "## Evaluate"
   ]
  },
  {
   "cell_type": "markdown",
   "metadata": {
    "id": "TYy6DOXO0UjK"
   },
   "source": [
    "evaluasi dengan precision@k"
   ]
  },
  {
   "cell_type": "code",
   "execution_count": 155,
   "metadata": {
    "colab": {
     "base_uri": "https://localhost:8080/"
    },
    "id": "lnWTuZWmvhWH",
    "outputId": "a0f7edc4-706b-4107-8aa1-60ae81974ef2"
   },
   "outputs": [
    {
     "name": "stdout",
     "output_type": "stream",
     "text": [
      "Precision@5: 0.2\n"
     ]
    }
   ],
   "source": [
    "def precision_at_k(recommended_items, relevant_items, k):\n",
    "    recommended_at_k = recommended_items[:k]\n",
    "    num_relevant = len(set(recommended_at_k) & set(relevant_items))\n",
    "    return num_relevant / k\n",
    "\n",
    "recommended_movies = movies_recommendation(\"The Final Destination\")['title'].tolist()  # Mendapatkan daftar film yang direkomendasikan\n",
    "relevant_movies = ['Final Destination 5', 'Final Destination 3','Final Destination 2','Case 39','Final Destination']  # Daftar film yang relevan\n",
    "k = 5  # Jumlah item teratas yang dipertimbangkan\n",
    "\n",
    "precision = precision_at_k(recommended_movies, relevant_movies, k)\n",
    "print(f\"Precision@{k}: {precision}\")"
   ]
  },
  {
   "cell_type": "code",
   "execution_count": 154,
   "metadata": {
    "colab": {
     "base_uri": "https://localhost:8080/"
    },
    "id": "PWF0kDCIa_2l",
    "outputId": "1545658f-ee97-40c7-a45d-21c015d995ff"
   },
   "outputs": [
    {
     "name": "stdout",
     "output_type": "stream",
     "text": [
      "Precision@5: 0.6\n"
     ]
    }
   ],
   "source": [
    "def precision_at_k(recommended_items, relevant_items, k):\n",
    "    recommended_at_k = recommended_items[:k]\n",
    "    num_relevant = len(set(recommended_at_k) & set(relevant_items))\n",
    "    return num_relevant / k\n",
    "\n",
    "recommended_movies_embed = recommend_movies_jaccard(\"The Final Destination\",movies)['title'].tolist()  # Mendapatkan daftar film yang direkomendasikan\n",
    "relevant_movies = ['Final Destination 5', 'Final Destination 3','Final Destination 2','Case 39','Final Destination']  # Daftar film yang relevan\n",
    "k = 5  # Jumlah item teratas yang dipertimbangkan\n",
    "\n",
    "precision = precision_at_k(recommended_movies_embed, relevant_movies, k)\n",
    "print(f\"Precision@{k}: {precision}\")"
   ]
  }
 ],
 "metadata": {
  "colab": {
   "provenance": []
  },
  "kernelspec": {
   "display_name": "Python 3",
   "language": "python",
   "name": "python3"
  },
  "language_info": {
   "codemirror_mode": {
    "name": "ipython",
    "version": 3
   },
   "file_extension": ".py",
   "mimetype": "text/x-python",
   "name": "python",
   "nbconvert_exporter": "python",
   "pygments_lexer": "ipython3",
   "version": "3.12.5"
  }
 },
 "nbformat": 4,
 "nbformat_minor": 0
}
